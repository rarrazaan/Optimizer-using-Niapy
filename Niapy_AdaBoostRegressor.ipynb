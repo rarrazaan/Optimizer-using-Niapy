{
  "nbformat": 4,
  "nbformat_minor": 0,
  "metadata": {
    "colab": {
      "name": "Niapy-Ensemble",
      "provenance": [],
      "collapsed_sections": []
    },
    "kernelspec": {
      "name": "python3",
      "display_name": "Python 3"
    },
    "language_info": {
      "name": "python"
    },
    "gpuClass": "standard"
  },
  "cells": [
    {
      "cell_type": "markdown",
      "source": [
        "# Preprocess"
      ],
      "metadata": {
        "id": "xqfxE4eIZ2eG"
      }
    },
    {
      "cell_type": "code",
      "source": [
        "!pip install niapy"
      ],
      "metadata": {
        "colab": {
          "base_uri": "https://localhost:8080/"
        },
        "id": "9JEul3EhcWi3",
        "outputId": "a70b152c-7c39-4739-cb29-b042db45a95a"
      },
      "execution_count": null,
      "outputs": [
        {
          "output_type": "stream",
          "name": "stdout",
          "text": [
            "Looking in indexes: https://pypi.org/simple, https://us-python.pkg.dev/colab-wheels/public/simple/\n",
            "Requirement already satisfied: niapy in /usr/local/lib/python3.7/dist-packages (2.0.2)\n",
            "Requirement already satisfied: numpy>=1.17.0 in /usr/local/lib/python3.7/dist-packages (from niapy) (1.21.6)\n",
            "Requirement already satisfied: matplotlib>=2.2.4 in /usr/local/lib/python3.7/dist-packages (from niapy) (3.2.2)\n",
            "Requirement already satisfied: pandas>=0.24.2 in /usr/local/lib/python3.7/dist-packages (from niapy) (1.3.5)\n",
            "Requirement already satisfied: openpyxl>=3.0.3 in /usr/local/lib/python3.7/dist-packages (from niapy) (3.0.10)\n",
            "Requirement already satisfied: python-dateutil>=2.1 in /usr/local/lib/python3.7/dist-packages (from matplotlib>=2.2.4->niapy) (2.8.2)\n",
            "Requirement already satisfied: cycler>=0.10 in /usr/local/lib/python3.7/dist-packages (from matplotlib>=2.2.4->niapy) (0.11.0)\n",
            "Requirement already satisfied: kiwisolver>=1.0.1 in /usr/local/lib/python3.7/dist-packages (from matplotlib>=2.2.4->niapy) (1.4.3)\n",
            "Requirement already satisfied: pyparsing!=2.0.4,!=2.1.2,!=2.1.6,>=2.0.1 in /usr/local/lib/python3.7/dist-packages (from matplotlib>=2.2.4->niapy) (3.0.9)\n",
            "Requirement already satisfied: typing-extensions in /usr/local/lib/python3.7/dist-packages (from kiwisolver>=1.0.1->matplotlib>=2.2.4->niapy) (4.1.1)\n",
            "Requirement already satisfied: et-xmlfile in /usr/local/lib/python3.7/dist-packages (from openpyxl>=3.0.3->niapy) (1.1.0)\n",
            "Requirement already satisfied: pytz>=2017.3 in /usr/local/lib/python3.7/dist-packages (from pandas>=0.24.2->niapy) (2022.1)\n",
            "Requirement already satisfied: six>=1.5 in /usr/local/lib/python3.7/dist-packages (from python-dateutil>=2.1->matplotlib>=2.2.4->niapy) (1.15.0)\n"
          ]
        }
      ]
    },
    {
      "cell_type": "code",
      "source": [
        "import pandas as pd\n",
        "from sklearn.preprocessing import StandardScaler\n",
        "from sklearn.model_selection import train_test_split ,cross_val_score\n",
        "import gdown\n",
        "import matplotlib.pyplot as plt\n",
        "import seaborn as sns"
      ],
      "metadata": {
        "id": "xMX7YyMD2Nbp"
      },
      "execution_count": null,
      "outputs": []
    },
    {
      "cell_type": "code",
      "source": [
        "!gdown --id 1OLnlno2zp6HXmIxNdNcK6l3hidH4ttVr\n",
        "!gdown --id 1cqgF0TDS6-wZql4NayQvPNvJx9SBf_CD"
      ],
      "metadata": {
        "colab": {
          "base_uri": "https://localhost:8080/"
        },
        "id": "NKq7ybY0z_SP",
        "outputId": "88439292-f6ed-4af4-f6f3-2a15a7d61603"
      },
      "execution_count": null,
      "outputs": [
        {
          "output_type": "stream",
          "name": "stdout",
          "text": [
            "/usr/local/lib/python3.7/dist-packages/gdown/cli.py:131: FutureWarning: Option `--id` was deprecated in version 4.3.1 and will be removed in 5.0. You don't need to pass it anymore to use a file ID.\n",
            "  category=FutureWarning,\n",
            "Downloading...\n",
            "From: https://drive.google.com/uc?id=1OLnlno2zp6HXmIxNdNcK6l3hidH4ttVr\n",
            "To: /content/boston_train.xlsx\n",
            "100% 34.4k/34.4k [00:00<00:00, 58.2MB/s]\n",
            "/usr/local/lib/python3.7/dist-packages/gdown/cli.py:131: FutureWarning: Option `--id` was deprecated in version 4.3.1 and will be removed in 5.0. You don't need to pass it anymore to use a file ID.\n",
            "  category=FutureWarning,\n",
            "Access denied with the following error:\n",
            "\n",
            " \tCannot retrieve the public link of the file. You may need to change\n",
            "\tthe permission to 'Anyone with the link', or have had many accesses. \n",
            "\n",
            "You may still be able to access the file from the browser:\n",
            "\n",
            "\t https://drive.google.com/uc?id=1cqgF0TDS6-wZql4NayQvPNvJx9SBf_CD \n",
            "\n"
          ]
        }
      ]
    },
    {
      "cell_type": "code",
      "source": [
        "train = pd.read_excel('boston_train.xlsx')\n",
        "test = pd.read_excel('boston_test.xlsx')"
      ],
      "metadata": {
        "id": "Zoz01srJ2CAT"
      },
      "execution_count": null,
      "outputs": []
    },
    {
      "cell_type": "code",
      "source": [
        "test"
      ],
      "metadata": {
        "colab": {
          "base_uri": "https://localhost:8080/",
          "height": 424
        },
        "id": "dgFGu0KRTx-Z",
        "outputId": "3a477e5c-d6bf-4991-b8bb-a11602e3d68a"
      },
      "execution_count": null,
      "outputs": [
        {
          "output_type": "execute_result",
          "data": {
            "text/plain": [
              "         CRIM    ZN  INDUS  CHAS     NOX     RM    AGE     DIS  RAD  TAX  \\\n",
              "0     0.01951  17.5   1.38     0  0.4161  7.104   59.5  9.2229    3  216   \n",
              "1     0.14866   0.0   8.56     0  0.5200  6.727   79.9  2.7778    5  384   \n",
              "2    25.04610   0.0  18.10     0  0.6930  5.987  100.0  1.5888   24  666   \n",
              "3     3.67367   0.0  18.10     0  0.5830  6.312   51.9  3.9917   24  666   \n",
              "4     9.51363   0.0  18.10     0  0.7130  6.728   94.1  2.4961   24  666   \n",
              "..        ...   ...    ...   ...     ...    ...    ...     ...  ...  ...   \n",
              "97    0.06211  40.0   1.25     0  0.4290  6.490   44.4  8.7921    1  335   \n",
              "98    0.06911  45.0   3.44     0  0.4370  6.739   30.8  6.4798    5  398   \n",
              "99    0.09252  30.0   4.93     0  0.4280  6.606   42.2  6.1899    6  300   \n",
              "100   0.26363   0.0   8.56     0  0.5200  6.229   91.2  2.5451    5  384   \n",
              "101   0.11425   0.0  13.89     1  0.5500  6.373   92.4  3.3633    5  276   \n",
              "\n",
              "     PTRATIO       B  LSTAT  PRICE  \n",
              "0       18.6  393.24   8.05   33.0  \n",
              "1       20.9  394.76   9.42   27.5  \n",
              "2       20.2  396.90  26.77    5.6  \n",
              "3       20.2  388.62  10.58   21.2  \n",
              "4       20.2    6.68  18.71   14.9  \n",
              "..       ...     ...    ...    ...  \n",
              "97      19.7  396.90   5.98   22.9  \n",
              "98      15.2  389.71   4.69   30.5  \n",
              "99      16.6  383.78   7.37   23.3  \n",
              "100     20.9  391.23  15.55   19.4  \n",
              "101     16.4  393.74  10.50   23.0  \n",
              "\n",
              "[102 rows x 14 columns]"
            ],
            "text/html": [
              "\n",
              "  <div id=\"df-0f6f1324-1654-4beb-ae40-c6be2fae84ed\">\n",
              "    <div class=\"colab-df-container\">\n",
              "      <div>\n",
              "<style scoped>\n",
              "    .dataframe tbody tr th:only-of-type {\n",
              "        vertical-align: middle;\n",
              "    }\n",
              "\n",
              "    .dataframe tbody tr th {\n",
              "        vertical-align: top;\n",
              "    }\n",
              "\n",
              "    .dataframe thead th {\n",
              "        text-align: right;\n",
              "    }\n",
              "</style>\n",
              "<table border=\"1\" class=\"dataframe\">\n",
              "  <thead>\n",
              "    <tr style=\"text-align: right;\">\n",
              "      <th></th>\n",
              "      <th>CRIM</th>\n",
              "      <th>ZN</th>\n",
              "      <th>INDUS</th>\n",
              "      <th>CHAS</th>\n",
              "      <th>NOX</th>\n",
              "      <th>RM</th>\n",
              "      <th>AGE</th>\n",
              "      <th>DIS</th>\n",
              "      <th>RAD</th>\n",
              "      <th>TAX</th>\n",
              "      <th>PTRATIO</th>\n",
              "      <th>B</th>\n",
              "      <th>LSTAT</th>\n",
              "      <th>PRICE</th>\n",
              "    </tr>\n",
              "  </thead>\n",
              "  <tbody>\n",
              "    <tr>\n",
              "      <th>0</th>\n",
              "      <td>0.01951</td>\n",
              "      <td>17.5</td>\n",
              "      <td>1.38</td>\n",
              "      <td>0</td>\n",
              "      <td>0.4161</td>\n",
              "      <td>7.104</td>\n",
              "      <td>59.5</td>\n",
              "      <td>9.2229</td>\n",
              "      <td>3</td>\n",
              "      <td>216</td>\n",
              "      <td>18.6</td>\n",
              "      <td>393.24</td>\n",
              "      <td>8.05</td>\n",
              "      <td>33.0</td>\n",
              "    </tr>\n",
              "    <tr>\n",
              "      <th>1</th>\n",
              "      <td>0.14866</td>\n",
              "      <td>0.0</td>\n",
              "      <td>8.56</td>\n",
              "      <td>0</td>\n",
              "      <td>0.5200</td>\n",
              "      <td>6.727</td>\n",
              "      <td>79.9</td>\n",
              "      <td>2.7778</td>\n",
              "      <td>5</td>\n",
              "      <td>384</td>\n",
              "      <td>20.9</td>\n",
              "      <td>394.76</td>\n",
              "      <td>9.42</td>\n",
              "      <td>27.5</td>\n",
              "    </tr>\n",
              "    <tr>\n",
              "      <th>2</th>\n",
              "      <td>25.04610</td>\n",
              "      <td>0.0</td>\n",
              "      <td>18.10</td>\n",
              "      <td>0</td>\n",
              "      <td>0.6930</td>\n",
              "      <td>5.987</td>\n",
              "      <td>100.0</td>\n",
              "      <td>1.5888</td>\n",
              "      <td>24</td>\n",
              "      <td>666</td>\n",
              "      <td>20.2</td>\n",
              "      <td>396.90</td>\n",
              "      <td>26.77</td>\n",
              "      <td>5.6</td>\n",
              "    </tr>\n",
              "    <tr>\n",
              "      <th>3</th>\n",
              "      <td>3.67367</td>\n",
              "      <td>0.0</td>\n",
              "      <td>18.10</td>\n",
              "      <td>0</td>\n",
              "      <td>0.5830</td>\n",
              "      <td>6.312</td>\n",
              "      <td>51.9</td>\n",
              "      <td>3.9917</td>\n",
              "      <td>24</td>\n",
              "      <td>666</td>\n",
              "      <td>20.2</td>\n",
              "      <td>388.62</td>\n",
              "      <td>10.58</td>\n",
              "      <td>21.2</td>\n",
              "    </tr>\n",
              "    <tr>\n",
              "      <th>4</th>\n",
              "      <td>9.51363</td>\n",
              "      <td>0.0</td>\n",
              "      <td>18.10</td>\n",
              "      <td>0</td>\n",
              "      <td>0.7130</td>\n",
              "      <td>6.728</td>\n",
              "      <td>94.1</td>\n",
              "      <td>2.4961</td>\n",
              "      <td>24</td>\n",
              "      <td>666</td>\n",
              "      <td>20.2</td>\n",
              "      <td>6.68</td>\n",
              "      <td>18.71</td>\n",
              "      <td>14.9</td>\n",
              "    </tr>\n",
              "    <tr>\n",
              "      <th>...</th>\n",
              "      <td>...</td>\n",
              "      <td>...</td>\n",
              "      <td>...</td>\n",
              "      <td>...</td>\n",
              "      <td>...</td>\n",
              "      <td>...</td>\n",
              "      <td>...</td>\n",
              "      <td>...</td>\n",
              "      <td>...</td>\n",
              "      <td>...</td>\n",
              "      <td>...</td>\n",
              "      <td>...</td>\n",
              "      <td>...</td>\n",
              "      <td>...</td>\n",
              "    </tr>\n",
              "    <tr>\n",
              "      <th>97</th>\n",
              "      <td>0.06211</td>\n",
              "      <td>40.0</td>\n",
              "      <td>1.25</td>\n",
              "      <td>0</td>\n",
              "      <td>0.4290</td>\n",
              "      <td>6.490</td>\n",
              "      <td>44.4</td>\n",
              "      <td>8.7921</td>\n",
              "      <td>1</td>\n",
              "      <td>335</td>\n",
              "      <td>19.7</td>\n",
              "      <td>396.90</td>\n",
              "      <td>5.98</td>\n",
              "      <td>22.9</td>\n",
              "    </tr>\n",
              "    <tr>\n",
              "      <th>98</th>\n",
              "      <td>0.06911</td>\n",
              "      <td>45.0</td>\n",
              "      <td>3.44</td>\n",
              "      <td>0</td>\n",
              "      <td>0.4370</td>\n",
              "      <td>6.739</td>\n",
              "      <td>30.8</td>\n",
              "      <td>6.4798</td>\n",
              "      <td>5</td>\n",
              "      <td>398</td>\n",
              "      <td>15.2</td>\n",
              "      <td>389.71</td>\n",
              "      <td>4.69</td>\n",
              "      <td>30.5</td>\n",
              "    </tr>\n",
              "    <tr>\n",
              "      <th>99</th>\n",
              "      <td>0.09252</td>\n",
              "      <td>30.0</td>\n",
              "      <td>4.93</td>\n",
              "      <td>0</td>\n",
              "      <td>0.4280</td>\n",
              "      <td>6.606</td>\n",
              "      <td>42.2</td>\n",
              "      <td>6.1899</td>\n",
              "      <td>6</td>\n",
              "      <td>300</td>\n",
              "      <td>16.6</td>\n",
              "      <td>383.78</td>\n",
              "      <td>7.37</td>\n",
              "      <td>23.3</td>\n",
              "    </tr>\n",
              "    <tr>\n",
              "      <th>100</th>\n",
              "      <td>0.26363</td>\n",
              "      <td>0.0</td>\n",
              "      <td>8.56</td>\n",
              "      <td>0</td>\n",
              "      <td>0.5200</td>\n",
              "      <td>6.229</td>\n",
              "      <td>91.2</td>\n",
              "      <td>2.5451</td>\n",
              "      <td>5</td>\n",
              "      <td>384</td>\n",
              "      <td>20.9</td>\n",
              "      <td>391.23</td>\n",
              "      <td>15.55</td>\n",
              "      <td>19.4</td>\n",
              "    </tr>\n",
              "    <tr>\n",
              "      <th>101</th>\n",
              "      <td>0.11425</td>\n",
              "      <td>0.0</td>\n",
              "      <td>13.89</td>\n",
              "      <td>1</td>\n",
              "      <td>0.5500</td>\n",
              "      <td>6.373</td>\n",
              "      <td>92.4</td>\n",
              "      <td>3.3633</td>\n",
              "      <td>5</td>\n",
              "      <td>276</td>\n",
              "      <td>16.4</td>\n",
              "      <td>393.74</td>\n",
              "      <td>10.50</td>\n",
              "      <td>23.0</td>\n",
              "    </tr>\n",
              "  </tbody>\n",
              "</table>\n",
              "<p>102 rows × 14 columns</p>\n",
              "</div>\n",
              "      <button class=\"colab-df-convert\" onclick=\"convertToInteractive('df-0f6f1324-1654-4beb-ae40-c6be2fae84ed')\"\n",
              "              title=\"Convert this dataframe to an interactive table.\"\n",
              "              style=\"display:none;\">\n",
              "        \n",
              "  <svg xmlns=\"http://www.w3.org/2000/svg\" height=\"24px\"viewBox=\"0 0 24 24\"\n",
              "       width=\"24px\">\n",
              "    <path d=\"M0 0h24v24H0V0z\" fill=\"none\"/>\n",
              "    <path d=\"M18.56 5.44l.94 2.06.94-2.06 2.06-.94-2.06-.94-.94-2.06-.94 2.06-2.06.94zm-11 1L8.5 8.5l.94-2.06 2.06-.94-2.06-.94L8.5 2.5l-.94 2.06-2.06.94zm10 10l.94 2.06.94-2.06 2.06-.94-2.06-.94-.94-2.06-.94 2.06-2.06.94z\"/><path d=\"M17.41 7.96l-1.37-1.37c-.4-.4-.92-.59-1.43-.59-.52 0-1.04.2-1.43.59L10.3 9.45l-7.72 7.72c-.78.78-.78 2.05 0 2.83L4 21.41c.39.39.9.59 1.41.59.51 0 1.02-.2 1.41-.59l7.78-7.78 2.81-2.81c.8-.78.8-2.07 0-2.86zM5.41 20L4 18.59l7.72-7.72 1.47 1.35L5.41 20z\"/>\n",
              "  </svg>\n",
              "      </button>\n",
              "      \n",
              "  <style>\n",
              "    .colab-df-container {\n",
              "      display:flex;\n",
              "      flex-wrap:wrap;\n",
              "      gap: 12px;\n",
              "    }\n",
              "\n",
              "    .colab-df-convert {\n",
              "      background-color: #E8F0FE;\n",
              "      border: none;\n",
              "      border-radius: 50%;\n",
              "      cursor: pointer;\n",
              "      display: none;\n",
              "      fill: #1967D2;\n",
              "      height: 32px;\n",
              "      padding: 0 0 0 0;\n",
              "      width: 32px;\n",
              "    }\n",
              "\n",
              "    .colab-df-convert:hover {\n",
              "      background-color: #E2EBFA;\n",
              "      box-shadow: 0px 1px 2px rgba(60, 64, 67, 0.3), 0px 1px 3px 1px rgba(60, 64, 67, 0.15);\n",
              "      fill: #174EA6;\n",
              "    }\n",
              "\n",
              "    [theme=dark] .colab-df-convert {\n",
              "      background-color: #3B4455;\n",
              "      fill: #D2E3FC;\n",
              "    }\n",
              "\n",
              "    [theme=dark] .colab-df-convert:hover {\n",
              "      background-color: #434B5C;\n",
              "      box-shadow: 0px 1px 3px 1px rgba(0, 0, 0, 0.15);\n",
              "      filter: drop-shadow(0px 1px 2px rgba(0, 0, 0, 0.3));\n",
              "      fill: #FFFFFF;\n",
              "    }\n",
              "  </style>\n",
              "\n",
              "      <script>\n",
              "        const buttonEl =\n",
              "          document.querySelector('#df-0f6f1324-1654-4beb-ae40-c6be2fae84ed button.colab-df-convert');\n",
              "        buttonEl.style.display =\n",
              "          google.colab.kernel.accessAllowed ? 'block' : 'none';\n",
              "\n",
              "        async function convertToInteractive(key) {\n",
              "          const element = document.querySelector('#df-0f6f1324-1654-4beb-ae40-c6be2fae84ed');\n",
              "          const dataTable =\n",
              "            await google.colab.kernel.invokeFunction('convertToInteractive',\n",
              "                                                     [key], {});\n",
              "          if (!dataTable) return;\n",
              "\n",
              "          const docLinkHtml = 'Like what you see? Visit the ' +\n",
              "            '<a target=\"_blank\" href=https://colab.research.google.com/notebooks/data_table.ipynb>data table notebook</a>'\n",
              "            + ' to learn more about interactive tables.';\n",
              "          element.innerHTML = '';\n",
              "          dataTable['output_type'] = 'display_data';\n",
              "          await google.colab.output.renderOutput(dataTable, element);\n",
              "          const docLink = document.createElement('div');\n",
              "          docLink.innerHTML = docLinkHtml;\n",
              "          element.appendChild(docLink);\n",
              "        }\n",
              "      </script>\n",
              "    </div>\n",
              "  </div>\n",
              "  "
            ]
          },
          "metadata": {},
          "execution_count": 5
        }
      ]
    },
    {
      "cell_type": "code",
      "source": [
        "train.isnull().sum()"
      ],
      "metadata": {
        "id": "DmxQRck82p4t",
        "colab": {
          "base_uri": "https://localhost:8080/"
        },
        "outputId": "ec729ef3-7e3c-44fe-e057-89a31d1e0353"
      },
      "execution_count": null,
      "outputs": [
        {
          "output_type": "execute_result",
          "data": {
            "text/plain": [
              "CRIM       0\n",
              "ZN         0\n",
              "INDUS      0\n",
              "CHAS       0\n",
              "NOX        0\n",
              "RM         0\n",
              "AGE        0\n",
              "DIS        0\n",
              "RAD        0\n",
              "TAX        0\n",
              "PTRATIO    0\n",
              "B          0\n",
              "LSTAT      0\n",
              "PRICE      0\n",
              "dtype: int64"
            ]
          },
          "metadata": {},
          "execution_count": 6
        }
      ]
    },
    {
      "cell_type": "code",
      "source": [
        "corr = train.corr()\n",
        "#Plot figsize\n",
        "fig, ax = plt.subplots(figsize=(10, 10))\n",
        "#Generate Heat Map, allow annotations and place floats in map\n",
        "sns.heatmap(corr, cmap='RdBu', annot=True, fmt=\".2f\")\n",
        "#Apply xticks\n",
        "plt.xticks(range(len(corr.columns)), corr.columns);\n",
        "#Apply yticks\n",
        "plt.yticks(range(len(corr.columns)), corr.columns)\n",
        "#show plot\n",
        "plt.show()"
      ],
      "metadata": {
        "colab": {
          "base_uri": "https://localhost:8080/",
          "height": 604
        },
        "id": "dodZ2sShNSRV",
        "outputId": "c1b0ad99-7d47-4d48-c008-eefc37c39597"
      },
      "execution_count": null,
      "outputs": [
        {
          "output_type": "display_data",
          "data": {
            "text/plain": [
              "<Figure size 720x720 with 2 Axes>"
            ],
            "image/png": "[encoded data removed]"
          },
          "metadata": {
            "needs_background": "light"
          }
        }
      ]
    },
    {
      "cell_type": "code",
      "source": [
        "X = train[['CRIM', 'ZN', 'INDUS', 'CHAS', 'NOX', 'RM', 'AGE', 'DIS', 'RAD', 'TAX', 'PTRATIO', 'B', 'LSTAT']]\n",
        "y = train[['PRICE']]"
      ],
      "metadata": {
        "id": "wbHhIJ57jadX"
      },
      "execution_count": null,
      "outputs": []
    },
    {
      "cell_type": "code",
      "source": [
        "X_train, X_val, y_train, y_val = train_test_split(\n",
        "    X, y, test_size=0.2, random_state=1234)"
      ],
      "metadata": {
        "id": "S2i43Q0OjUrx"
      },
      "execution_count": null,
      "outputs": []
    },
    {
      "cell_type": "code",
      "source": [
        "scaler = StandardScaler()"
      ],
      "metadata": {
        "id": "YouCPtGE3Fyr"
      },
      "execution_count": null,
      "outputs": []
    },
    {
      "cell_type": "code",
      "source": [
        "X_test = test[['CRIM', 'ZN', 'INDUS', 'CHAS', 'NOX', 'RM', 'AGE', 'DIS', 'RAD', 'TAX', 'PTRATIO', 'B', 'LSTAT']]\n",
        "y_test = test[['PRICE']]"
      ],
      "metadata": {
        "id": "t8CMkJ813Gz9"
      },
      "execution_count": null,
      "outputs": []
    },
    {
      "cell_type": "code",
      "source": [
        "X_train = scaler.fit_transform(X_train)\n",
        "X_val = scaler.fit_transform(X_val)\n",
        "X_test = scaler.fit_transform(X_test)"
      ],
      "metadata": {
        "id": "M0gb_hz45ZJb"
      },
      "execution_count": null,
      "outputs": []
    },
    {
      "cell_type": "code",
      "source": [
        "print(len(X_train))\n",
        "print(len(X_val))\n",
        "print(len(X_test))"
      ],
      "metadata": {
        "id": "cXq4ju2c8ySr",
        "colab": {
          "base_uri": "https://localhost:8080/"
        },
        "outputId": "e3ef989c-d5fc-41a3-810c-ac06e3d17827"
      },
      "execution_count": null,
      "outputs": [
        {
          "output_type": "stream",
          "name": "stdout",
          "text": [
            "323\n",
            "81\n",
            "102\n"
          ]
        }
      ]
    },
    {
      "cell_type": "code",
      "source": [
        "# Import library dan membangun instance model regressor\n",
        "# untuk digunakan sebagai base_estimator\n",
        "\n",
        "from sklearn.tree import DecisionTreeRegressor\n",
        "from sklearn.svm import SVR\n",
        "from sklearn.neighbors import KNeighborsRegressor\n",
        "from sklearn.neural_network import MLPRegressor\n",
        "from sklearn.linear_model import LinearRegression\n",
        "from sklearn.linear_model import SGDRegressor\n",
        "\n",
        "DTReg = DecisionTreeRegressor()\n",
        "SVReg = SVR()\n",
        "LinReg = LinearRegression()\n",
        "SGDReg = SGDRegressor()\n",
        "MLPReg = MLPRegressor()\n",
        "KNNReg = KNeighborsRegressor()"
      ],
      "metadata": {
        "id": "kNHdbJNVUbn-"
      },
      "execution_count": null,
      "outputs": []
    },
    {
      "cell_type": "markdown",
      "source": [
        "# AdaBoostReg HybridBat"
      ],
      "metadata": {
        "id": "7Ac-BINUQIBx"
      }
    },
    {
      "cell_type": "code",
      "execution_count": null,
      "metadata": {
        "id": "MZ2EVEliwAYQ"
      },
      "outputs": [],
      "source": [
        "from sklearn.ensemble import AdaBoostRegressor\n",
        "from niapy.problems import Problem\n",
        "from niapy.task import OptimizationType, Task\n",
        "from niapy.algorithms.modified import HybridBatAlgorithm\n",
        "\n",
        "\n",
        "def get_hyperparameters(x):\n",
        "    \"\"\"\n",
        "    Fungsi untuk mendapatkan hyperparameters dari nilai x.\n",
        "    Hyperparamter yang akan digunakan adalah base_estimator,\n",
        "    n_estimators, learning_rate, dan loss\n",
        "    \"\"\"\n",
        "    \n",
        "    bases = (DTReg, SVReg, LinReg, SGDReg, MLPReg, KNNReg)\n",
        "    base_estimator = bases[int(x[0] * 5)]\n",
        "    n_estimators = int(x[1] * 100 + 1)\n",
        "    learning_rate = x[2] * 3 + 0.000001\n",
        "    losses = ('linear', 'square', 'exponential')\n",
        "    loss = losses[int(x[3] * 2)]\n",
        "\n",
        "\n",
        "    params = {\n",
        "        'base_estimator': base_estimator,\n",
        "        'n_estimators': n_estimators,\n",
        "        'learning_rate' : learning_rate,\n",
        "        'loss': loss,\n",
        "    }\n",
        "\n",
        "    return params\n",
        "\n",
        "\n",
        "def get_regressor(x):\n",
        "    \"\"\"     generate regressor berdasarkan hyperparameter yang dipilih.     \"\"\"\n",
        "    params = get_hyperparameters(x)\n",
        "    return AdaBoostRegressor(**params)"
      ]
    },
    {
      "cell_type": "code",
      "source": [
        "class ABRHyperparameterOptimization(Problem):\n",
        "    def __init__(self, X_train, y_train):\n",
        "        super().__init__(dimension=4, lower=0, upper=1)\n",
        "        self.X_train = X_train\n",
        "        self.y_train = y_train\n",
        "\n",
        "    def _evaluate(self, x):\n",
        "        model = get_regressor(x)\n",
        "        scores = cross_val_score(model, self.X_train, self.y_train, cv=5, n_jobs=-1)\n",
        "        return scores.mean()"
      ],
      "metadata": {
        "id": "U3D3I1ZQaWl4"
      },
      "execution_count": null,
      "outputs": []
    },
    {
      "cell_type": "code",
      "source": [
        "problem = ABRHyperparameterOptimization(X_train, y_train)\n",
        "\n",
        "# akan menjalankan maksimalisasi untuk 100 iterasi pada permasalahan dengan populasi 10\n",
        "task = Task(problem, max_iters=100, optimization_type=OptimizationType.MAXIMIZATION)\n",
        "\n",
        "algorithm = HybridBatAlgorithm(population_size=10, seed=1234)\n",
        "best_params_HBA, best_accuracy = algorithm.run(task)\n",
        "\n",
        "print('Best parameters:', get_hyperparameters(best_params_HBA))"
      ],
      "metadata": {
        "colab": {
          "base_uri": "https://localhost:8080/"
        },
        "id": "QDgUa7m3aaaD",
        "outputId": "ebbf2597-c160-4eef-fadb-8fa4c2986035"
      },
      "execution_count": null,
      "outputs": [
        {
          "output_type": "stream",
          "name": "stdout",
          "text": [
            "[0.97669977 0.38019574 0.92324623 0.26169242]\n",
            "[0.31909706 0.11809123 0.24176629 0.31853393]\n",
            "[0.96407925 0.2636498  0.44100612 0.60987081]\n",
            "[0.8636213  0.86375767 0.67488131 0.65987435]\n",
            "[0.7357577  0.22275366 0.17206618 0.87041497]\n",
            "[0.06013866 0.68368891 0.67123802 0.61101798]\n",
            "[0.06013731 0.97776927 0.43895163 0.53259502]\n",
            "[0.00313229 0.25126711 0.85849044 0.42529835]\n",
            "[0.73581899 0.92204322 0.15347417 0.99225923]\n",
            "[0.18233178 0.9401129  0.08688306 0.46821072]\n",
            "[1. 0. 1. 0.]\n",
            "[0.58617682 0.         0.54422741 0.02624014]\n",
            "[1.         0.         0.75891911 0.73704576]\n",
            "[0.98922594 0.84968058 0.78328649 0.69521005]\n",
            "[1.         0.         0.26347897 1.        ]\n",
            "[0.         0.52701345 1.         0.69827344]\n",
            "[0.         1.         0.96778245 0.62930461]\n",
            "[0.         0.         1.         0.38605277]\n",
            "[1.         0.91143626 0.19256336 1.        ]\n",
            "[0.18233178 0.9401129  0.08688306 0.46821072]\n",
            "[1. 0. 1. 0.]\n",
            "[0.73148202 0.         0.7087819  0.        ]\n",
            "[1.         0.         0.76315313 0.7387395 ]\n",
            "[0.         0.53813691 0.13102912 0.13134806]\n",
            "[1.         0.         0.42643663 1.        ]\n",
            "[0.         0.27146462 1.         0.84059331]\n",
            "[0.       1.       1.       0.659463]\n",
            "[0.30280282 1.         0.46247308 0.42529835]\n",
            "[1.         0.9006725  0.23223037 1.        ]\n",
            "[0.18233178 0.9401129  0.08688306 0.46821072]\n",
            "[1. 0. 1. 0.]\n",
            "[0.90163077 0.         0.90147108 0.        ]\n",
            "[1.         0.         0.95949058 0.81728051]\n",
            "[1.         0.65274825 1.         1.        ]\n",
            "[1.         0.         0.49122745 1.        ]\n",
            "[0. 0. 1. 1.]\n",
            "[0.30280282 1.         0.46247308 0.16384944]\n",
            "[0.         0.         1.         0.27821082]\n",
            "[1.         0.89556616 0.25104846 1.        ]\n",
            "[0.18233178 0.9401129  0.08688306 0.46821072]\n",
            "[0.18233111 1.         0.         0.42899924]\n",
            "[1. 0. 1. 0.]\n",
            "[1.         0.         1.         0.89744865]\n",
            "[1.         0.54230938 1.         1.        ]\n",
            "[0.12123522 0.22275366 0.37906054 0.53961435]\n",
            "[0. 0. 1. 1.]\n",
            "[0.         1.         1.         0.76059563]\n",
            "[0.         0.         1.         0.22379465]\n",
            "[1.         0.89502842 0.25303017 1.        ]\n",
            "[0.15382927 0.9401129  0.29665246 0.41456238]\n",
            "[1. 0. 1. 0.]\n",
            "[1. 0. 1. 0.]\n",
            "[1.         0.87352497 0.         0.4148285 ]\n",
            "[1.        0.4187122 1.        1.       ]\n",
            "[1.         0.         0.51662629 1.        ]\n",
            "[0. 0. 1. 1.]\n",
            "[0.57951577 0.66015432 0.50506464 0.53259502]\n",
            "[0.5840731 1.        0.0887047 0.4926389]\n",
            "[0.73581899 0.90193529 0.38088218 0.56404253]\n",
            "[0.18233178 0.9401129  0.08688306 0.46821072]\n",
            "[1. 0. 1. 0.]\n",
            "[1. 0. 1. 0.]\n",
            "[1.         1.         0.         0.56107053]\n",
            "[1.         0.28667393 1.         1.        ]\n",
            "[1.         0.         0.60180292 1.        ]\n",
            "[0.         0.80906065 0.         0.49663147]\n",
            "[0.         1.         1.         0.91999581]\n",
            "[0.59116589 0.47005645 0.34434299 0.73410536]\n",
            "[1.         0.88960227 0.27302684 1.        ]\n",
            "[0.18233178 0.9401129  0.08688306 0.46821072]\n",
            "[0.12123455 0.95894109 0.26291734 0.50040287]\n",
            "[0.         0.93159258 0.         0.41878143]\n",
            "[1. 0. 1. 1.]\n",
            "[1.         0.18367648 1.         1.        ]\n",
            "[0.         0.58610787 0.04635983 0.32973266]\n",
            "[0. 0. 1. 1.]\n",
            "[0.         1.         1.         0.92027969]\n",
            "[0.5530452  0.9862896  0.600358   0.58202431]\n",
            "[0.12123455 0.95894109 0.0638188  0.55167854]\n",
            "[0.28078308 0.61345638 0.38380049 0.4113541 ]\n",
            "[0.         1.         0.         0.54780816]\n",
            "[1. 0. 1. 0.]\n",
            "[1. 0. 1. 1.]\n",
            "[1.         0.02847344 1.         1.        ]\n",
            "[1. 0. 1. 1.]\n",
            "[0.         0.47005645 0.54344153 0.68282968]\n",
            "[0.55147905 1.         0.17111278 0.61769087]\n",
            "[0. 0. 1. 0.]\n",
            "[1.         0.84817436 0.15014709 1.        ]\n",
            "[0.         0.76884322 0.30129422 0.36955666]\n",
            "[0.97669977 0.55441076 0.92324623 0.25208713]\n",
            "[0.         0.93938423 0.1878438  0.2487186 ]\n",
            "[0.         1.         0.36151001 0.60743341]\n",
            "[1. 0. 1. 1.]\n",
            "[0.12123455 0.95894109 0.26291734 0.4491272 ]\n",
            "[0.46168602 1.         0.21710774 0.8411359 ]\n",
            "[0.         1.         1.         0.95997132]\n",
            "[0. 0. 1. 0.]\n",
            "[0.60958443 0.83161614 0.72454046 0.3781307 ]\n",
            "[0.         0.34876214 0.         0.0191487 ]\n",
            "[0.46168602 0.89989547 0.44293566 0.8411359 ]\n",
            "[1. 0. 1. 0.]\n",
            "[0.12123455 0.53485391 0.48874526 0.50040287]\n",
            "[0.46168602 1.         0.21710774 0.8411359 ]\n",
            "[0.         1.         0.29268131 0.52591423]\n",
            "[0.10958443 1.         0.423639   0.12644644]\n",
            "[0. 1. 1. 1.]\n",
            "[0. 0. 1. 0.]\n",
            "[1.         0.63517598 0.         1.        ]\n",
            "[0.         0.05816394 0.         0.32477413]\n",
            "[0.4500359  0.94095438 0.80275585 0.46717947]\n",
            "[0.57951577 0.51111536 0.70416318 0.36014892]\n",
            "[1. 0. 1. 1.]\n",
            "[0.05479222 0.88442161 0.36246661 0.24800155]\n",
            "[0.00482812 1.         0.51457535 1.        ]\n",
            "[0.         0.         1.         0.97933403]\n",
            "[0.26913296 1.         0.04452214 0.2857134 ]\n",
            "[0.60958443 0.61557839 0.77299188 0.44166811]\n",
            "[0.59552026 0.77720538 0.62797444 0.        ]\n",
            "[0.         1.         0.30129422 0.        ]\n",
            "[1. 0. 1. 0.]\n",
            "[0.10717037 0.88442161 0.31699843 0.        ]\n",
            "[1. 0. 1. 1.]\n",
            "[0.60717037 0.5        0.66635132 0.        ]\n",
            "[0.55479222 1.         0.7118195  0.51194754]\n",
            "[0.         0.57591282 0.84856545 0.        ]\n",
            "[0.10958443 1.         0.423639   0.17772211]\n",
            "[0.10958443 1.         0.423639   0.        ]\n",
            "[0.55479222 0.5        0.7118195  0.53758538]\n",
            "[0.         0.         0.         0.96697787]\n",
            "[0.10958443 1.         0.423639   0.20335995]\n",
            "[0.10717037 0.5        0.7118195  0.11449889]\n",
            "[0.60958443 1.         0.34806543 0.49294378]\n",
            "[1.        1.        0.4314911 1.       ]\n",
            "[0.55599924 1.         0.48088533 0.67772211]\n",
            "[0.10958443 1.         0.423639   0.62644644]\n",
            "[0.1083774  1.         0.37031872 0.11449889]\n",
            "[0.10958443 1.         0.423639   0.20335995]\n",
            "[1.         0.42355267 0.         1.        ]\n",
            "[0. 0. 0. 1.]\n",
            "[1. 0. 1. 0.]\n",
            "[0.10958443 1.         0.423639   0.62644644]\n",
            "[0.60958443 0.61557839 0.77299188 0.        ]\n",
            "[1. 0. 1. 1.]\n",
            "[0.         1.         0.41971294 0.        ]\n",
            "[0.         0.         1.         0.93358113]\n",
            "[0. 1. 1. 1.]\n",
            "[0.         1.         0.13545849 0.        ]\n",
            "[1.         0.24645474 0.         1.        ]\n",
            "[0.55599924 0.55778919 0.30129422 0.17772211]\n",
            "[0.10958443 1.         0.423639   0.15208427]\n",
            "[0.         1.         0.41971294 0.        ]\n",
            "[1. 0. 1. 1.]\n",
            "[1. 0. 1. 1.]\n",
            "[1. 0. 1. 1.]\n",
            "[0.         0.         1.         0.86114261]\n",
            "[0.         1.         0.423639   0.24094533]\n",
            "[0.55479222 0.5        0.7118195  0.56322322]\n",
            "[0.11199849 1.         0.4710702  0.67772211]\n",
            "[0.10717037 0.76884322 0.37620779 0.        ]\n",
            "[0.16196259 1.         0.37817082 0.        ]\n",
            "[0.11199849 1.         0.18092667 0.67772211]\n",
            "[0.         1.         0.55842192 0.        ]\n",
            "[0.16437665 1.         0.42560202 0.24094533]\n",
            "[1. 0. 1. 1.]\n",
            "[0.55479222 0.92408718 0.28689304 0.58886105]\n",
            "[0.52739611 0.5        0.71083798 0.50597377]\n",
            "[0.10958443 1.         0.48284836 0.        ]\n",
            "[0.         1.         0.07428611 0.36250044]\n",
            "[0.         0.5        0.66635132 0.        ]\n",
            "[0.10717037 0.88442161 0.31699843 0.        ]\n",
            "[0.02739611 1.         0.3614851  0.24202777]\n",
            "[0.05479222 1.         1.         0.17772211]\n",
            "[0.16437665 1.         0.13545849 0.24094533]\n",
            "[0.16437665 1.         0.48481138 0.056167  ]\n",
            "[0.05720627 1.         0.43950249 0.67772211]\n",
            "[0.         1.         0.60585312 0.17772211]\n",
            "[0.10958443 1.         0.48284836 0.67772211]\n",
            "[0.05479222 0.88442161 0.36246661 0.29927722]\n",
            "[0.60717037 0.92408718 0.24142487 0.17772211]\n",
            "[0.         1.         0.13644001 0.        ]\n",
            "[0.         1.         0.27905799 0.05724945]\n",
            "[1. 0. 1. 1.]\n",
            "[0.55479222 0.5        0.7118195  0.53758538]\n",
            "[0.         1.         0.56038495 0.        ]\n",
            "[0.         1.         0.13545849 0.        ]\n",
            "[0.11199849 1.         0.4710702  0.67772211]\n",
            "[0.60958443 1.         0.34806543 0.49294378]\n",
            "[0.60958443 0.61557839 0.77299188 1.        ]\n",
            "[0.55479222 0.5        0.7118195  0.53758538]\n",
            "[0.         1.         0.56136646 0.        ]\n",
            "[0.05720627 1.         0.43950249 0.67772211]\n",
            "[0.10958443 0.88442161 0.36442964 0.36250044]\n",
            "[0.60958443 0.92408718 0.28885607 0.24094533]\n",
            "[1. 0. 1. 1.]\n",
            "[0.         1.         0.13644001 0.        ]\n",
            "[0.1893587  1.         0.37915233 0.        ]\n",
            "[0.02739611 1.         0.42069446 0.05724945]\n",
            "[0.05479222 1.         0.42167597 0.08886105]\n",
            "[0.         1.         0.13545849 0.        ]\n",
            "[0.13698054 1.         0.48382987 0.        ]\n",
            "[0.05479222 0.88442161 0.33286193 0.36250044]\n",
            "[0.13698054 0.         0.42462051 0.20933372]\n",
            "[0.16437665 1.         0.56723849 0.24094533]\n",
            "[0.55479222 0.5        0.7118195  0.56322322]\n",
            "[0.         0.         1.         0.64153212]\n",
            "[0.       1.       0.423639 0.      ]\n",
            "[0.16196259 1.         0.37817082 0.        ]\n",
            "[1. 0. 0. 1.]\n",
            "[0.19177275 1.         0.56822    0.29819477]\n",
            "[0.10958443 1.         0.423639   0.20335995]\n",
            "[1.         0.         0.53268149 0.        ]\n",
            "[0.11199849 1.         0.61270667 0.67772211]\n",
            "[0.10717037 0.88442161 0.31699843 0.24094533]\n",
            "[0.13456648 0.88442161 0.31797995 0.28537585]\n",
            "[0.60717037 0.5        0.66635132 0.50489133]\n",
            "[0.16196259 1.         0.46059793 0.30416854]\n",
            "[0.07977426 1.         0.31601692 0.1965148 ]\n",
            "[0.05479222 0.88442161 0.36246661 0.67772211]\n",
            "[0. 0. 0. 1.]\n",
            "[0.10475631 0.88442161 0.26956723 0.        ]\n",
            "[0.10958443 0.88442161 0.5060661  0.74094533]\n",
            "[0.15954853 0.88442161 0.27153026 0.        ]\n",
            "[0.15954853 0.88442161 0.30113494 0.        ]\n",
            "[0.16075556 0.82663242 0.40727765 0.36141799]\n",
            "[0.         1.         0.02685491 0.        ]\n",
            "[0.05479222 0.88442161 0.33286193 0.74094533]\n",
            "[0.10475631 0.88442161 0.12793076 0.        ]\n",
            "[1. 0. 0. 1.]\n",
            "[0.05720627 0.94221081 0.51032073 0.74094533]\n",
            "[0.05479222 0.88442161 0.36246661 0.65208427]\n",
            "[0.16196259 1.         0.37817082 0.14502805]\n",
            "[0.16196259 0.88442161 0.31896146 0.30416854]\n",
            "[1. 0. 1. 1.]\n",
            "[0.05479222 0.94221081 0.32125306 0.24094533]\n",
            "[0.07977426 0.79773782 0.30701902 0.30525099]\n",
            "[0.10596334 0.88442161 0.2224646  0.12047266]\n",
            "[0.07977426 0.88442161 0.31601692 0.1965148 ]\n",
            "[0.16075556 0.82663242 0.26564118 0.36141799]\n",
            "[0.10958443 0.94221081 0.46485255 0.30416854]\n",
            "[0.13456648 0.88442161 0.13644001 0.27255694]\n",
            "[0.0541887  0.94221081 0.34480437 0.18070899]\n",
            "[0.05237816 0.91331621 0.15279216 0.08886105]\n",
            "[0.07917075 0.91331621 0.24814323 0.06023633]\n",
            "[0.16196259 0.85552701 0.33956824 0.24094533]\n",
            "[0.08158481 1.         0.41660412 0.2123206 ]\n",
            "[0.13335945 0.82663242 0.26465967 0.32980638]\n",
            "[0.08098129 0.88442161 0.3693372  0.15208427]\n",
            "[0.10717037 0.88442161 0.17536197 0.24094533]\n",
            "[0.0928688  0.82663242 0.28984754 0.22812641]\n",
            "[0.07977426 0.85552701 0.26580546 0.29819477]\n",
            "[0.1083774  0.94221081 0.37031872 0.20933372]\n",
            "[0.16196259 0.9711054  0.39403432 0.06023633]\n",
            "[0.18815167 0.86997431 0.30415912 0.27106349]\n",
            "[0.05479222 0.94221081 0.36835569 0.12047266]\n",
            "[0.10596334 0.82663242 0.26367815 0.27255694]\n",
            "[0.10958443 0.82663242 0.28984754 0.25376424]\n",
            "[0.16075556 0.89886891 0.35338906 0.15059083]\n",
            "[1. 0. 0. 1.]\n",
            "[0.13275594 0.79773782 0.23799953 0.3584311 ]\n",
            "[0.05358519 0.94221081 0.36835569 0.12047266]\n",
            "[0.13516999 0.91331621 0.34464009 0.26957005]\n",
            "[0.13396297 0.85552701 0.39403432 0.30118166]\n",
            "[0.13275594 0.88442161 0.21739275 0.26957005]\n",
            "[0.12026491 0.88442161 0.29082905 0.28537585]\n",
            "[0. 0. 1. 0.]\n",
            "[0.11935964 0.81218512 0.30219609 0.32831294]\n",
            "[0. 0. 1. 0.]\n",
            "[1. 0. 0. 1.]\n",
            "[0. 0. 0. 1.]\n",
            "[0.06667973 0.94221081 0.34218631 0.16490319]\n",
            "[0.10777389 0.88442161 0.29344712 0.30118166]\n",
            "[0.05237816 0.91331621 0.29442863 0.08886105]\n",
            "[0.10717037 0.91331621 0.3681914  0.20933372]\n",
            "[0.11935964 0.84107971 0.28158932 0.23945188]\n",
            "[0.10958443 0.85552701 0.28935678 0.2123206 ]\n",
            "[0.16075556 0.82663242 0.26564118 0.36141799]\n",
            "[0.16196259 0.88442161 0.31896146 0.32980638]\n",
            "[1. 0. 0. 1.]\n",
            "[0.08037778 0.91331621 0.34267706 0.18070899]\n",
            "[0.11935964 0.94221081 0.30219609 0.3026751 ]\n",
            "[0.1217737  0.92776351 0.3574794  0.23945188]\n",
            "[1. 0. 1. 1.]\n",
            "[0.12086843 0.85552701 0.31748919 0.25675113]\n",
            "[0.10596334 0.82663242 0.26367815 0.27255694]\n",
            "[0.13456648 0.91331621 0.3681914  0.20933372]\n",
            "[0.08037778 0.91331621 0.29131981 0.18070899]\n",
            "[0.07977426 0.91331621 0.36622838 0.12047266]\n",
            "[0.06667973 0.94221081 0.34218631 0.16490319]\n",
            "[0. 0. 0. 1.]\n",
            "[0.13335945 0.94221081 0.31487112 0.24094533]\n",
            "[0.1083774  0.94221081 0.37031872 0.18369588]\n",
            "[0.12147194 0.85552701 0.34414933 0.25376424]\n",
            "[1. 0. 1. 1.]\n",
            "[0.11905788 0.85552701 0.2626145  0.27255694]\n",
            "[0. 0. 1. 0.]\n",
            "[0. 1. 1. 1.]\n",
            "[0.13275594 0.79773782 0.23799953 0.3584311 ]\n",
            "[0.08067954 0.89886891 0.30464988 0.16639663]\n",
            "[0.13275594 0.79773782 0.23799953 0.3584311 ]\n",
            "[0.16075556 0.82663242 0.26564118 0.36141799]\n",
            "[0.0541887  0.94221081 0.34480437 0.        ]\n",
            "[0.13396297 0.82663242 0.26367815 0.27255694]\n",
            "[0.12026491 0.85552701 0.34104051 0.1965148 ]\n",
            "[1. 0. 1. 1.]\n",
            "[0.08158481 1.         0.39599734 0.14909739]\n",
            "[0.16196259 0.88442161 0.31896146 0.30416854]\n",
            "[0.13456648 0.85552701 0.26776849 0.36141799]\n",
            "[0.067585   0.92776351 0.2806078  0.21082716]\n",
            "[0.08158481 0.9711054  0.39599734 0.18070899]\n",
            "[0.17415186 0.81218512 0.30415912 0.39153616]\n",
            "[0.06728324 0.91331621 0.36884645 0.13627847]\n",
            "[0.1083774  0.94221081 0.37031872 0.20933372]\n",
            "[0.14766102 0.82663242 0.29181056 0.31698746]\n",
            "[0.13335945 0.82663242 0.26465967 0.31698746]\n",
            "[0.12026491 0.91331621 0.31593478 0.24094533]\n",
            "[0.10958443 0.82663242 0.26564118 0.36141799]\n",
            "[0.09437759 0.89886891 0.30628643 0.27106349]\n",
            "[0.09317056 0.86997431 0.30317761 0.22663296]\n",
            "[0.10107574 0.91331621 0.35007823 0.20367098]\n",
            "[0.13335945 0.86997431 0.30317761 0.22663296]\n",
            "[0.09407583 0.91331621 0.29295636 0.28537585]\n",
            "[0.12147194 0.94221081 0.34414933 0.25376424]\n",
            "[0.13456648 0.91331621 0.3681914  0.20933372]\n",
            "[0.09407583 0.85552701 0.31806209 0.24094533]\n",
            "[0.1083774  0.94221081 0.37031872 0.20933372]\n",
            "[0.08067954 0.86997431 0.3309014  0.21082716]\n",
            "[0.13456648 0.85552701 0.26776849 0.36141799]\n",
            "[0.09407583 0.88442161 0.34316782 0.1965148 ]\n",
            "[0.13335945 0.91331621 0.2897654  0.28537585]\n",
            "[0.13456648 0.91331621 0.3681914  0.20933372]\n",
            "[0.1083774  0.94221081 0.37031872 0.20933372]\n",
            "[0.10596334 0.82663242 0.26367815 0.27255694]\n",
            "[0.11905788 0.85552701 0.2626145  0.27255694]\n",
            "[0.1083774  0.94221081 0.37031872 0.20933372]\n",
            "[0.10717037 1.         0.31699843 0.24094533]\n",
            "[0.12026491 0.91331621 0.31593478 0.24094533]\n",
            "[0.09437759 0.89886891 0.30628643 0.27106349]\n",
            "[0.11905788 0.86997431 0.2626145  0.27255694]\n",
            "[0.09896344 0.81940877 0.25676774 0.26540075]\n",
            "[0.08037778 0.88442161 0.31487112 0.25675113]\n",
            "[0.10077398 0.90609256 0.33674816 0.21798334]\n",
            "[0.10717037 0.88442161 0.31699843 0.21530749]\n",
            "[0.11537731 0.94943445 0.37722913 0.19085206]\n",
            "[0.10777389 0.91331621 0.34365857 0.24094533]\n",
            "[0.08098129 1.         0.34423147 0.12644644]\n",
            "[0.13335945 0.91331621 0.2897654  0.28537585]\n",
            "[0.07977426 0.85552701 0.26580546 0.27255694]\n",
            "[0.10777389 0.91331621 0.34365857 0.23795844]\n",
            "[0.12026491 0.88442161 0.29082905 0.28537585]\n",
            "[1. 0. 1. 0.]\n",
            "[0.09896344 0.81940877 0.25676774 0.26540075]\n",
            "[0.12726482 0.92053986 0.32284519 0.24810151]\n",
            "[0.09256705 0.84107971 0.27651747 0.24243877]\n",
            "[0.11905788 0.85552701 0.32125306 0.24094533]\n",
            "[0.1083774  0.94221081 0.37031872 0.20933372]\n",
            "[0.10656686 0.85552701 0.29033829 0.24393221]\n",
            "[0.1217737  0.92776351 0.3693372  0.21381405]\n",
            "[0.11905788 0.86997431 0.2626145  0.29819477]\n",
            "[0.13335945 0.91331621 0.2897654  0.28537585]\n",
            "[0.0928688  0.82663242 0.28984754 0.25376424]\n",
            "[0.07977426 0.85552701 0.26580546 0.29819477]\n",
            "[0.09347232 0.85552701 0.31650768 0.2123206 ]\n",
            "[0.10777389 0.91331621 0.34365857 0.23795844]\n",
            "[0.12147194 0.94221081 0.34414933 0.25376424]\n",
            "[0.10596334 0.82663242 0.423639   0.27255694]\n",
            "[0.10656686 0.85552701 0.29033829 0.28238897]\n",
            "[0.12056667 0.86997431 0.30415912 0.25824457]\n",
            "[0.08098129 0.91331621 0.31912574 0.25376424]\n",
            "[0.10107574 0.89164526 0.35007823 0.20367098]\n",
            "[0.07977426 0.85552701 0.26580546 0.29819477]\n",
            "[0.1083774  0.94221081 0.37031872 0.22215264]\n",
            "[1. 0. 1. 1.]\n",
            "[0.10747213 0.88442161 0.31699843 0.22663296]\n",
            "[0.12086843 0.91331621 0.31748919 0.26957005]\n",
            "[0.10686862 0.89886891 0.30366836 0.25525769]\n",
            "[0.1083774  0.94221081 0.37031872 0.1965148 ]\n",
            "[0.08098129 0.91331621 0.3693372  0.25376424]\n",
            "[0.09317056 0.86997431 0.30317761 0.22663296]\n",
            "[0.13335945 0.91331621 0.2897654  0.28537585]\n",
            "[0.10596334 0.82663242 0.26367815 0.25973802]\n",
            "[0.08067954 0.86997431 0.37031872 0.21082716]\n",
            "[0.0928688  0.82663242 0.28984754 0.21530749]\n",
            "[0.10596334 0.82663242 0.26367815 0.28537585]\n",
            "[0.09528286 0.91331621 0.37138237 0.18369588]\n",
            "[0.0928688  0.82663242 0.28984754 0.22812641]\n",
            "[0.12026491 0.88442161 0.423639   0.28537585]\n",
            "[0.11537731 0.94943445 0.37722913 0.2164899 ]\n",
            "[0.14645399 0.88442161 0.31380747 0.24094533]\n",
            "[0.1083774  0.94221081 0.37031872 0.18369588]\n",
            "[1. 0. 1. 0.]\n",
            "[0.11537731 0.94943445 0.37722913 0.19085206]\n",
            "[0.11996315 0.86997431 0.32771044 0.21082716]\n",
            "[0.07687783 0.88080979 0.2890104  0.26599196]\n",
            "[0.09407583 0.88442161 0.34316782 0.20933372]\n",
            "[0.10958443 0.88442161 0.34316782 0.1965148 ]\n",
            "[0.11356676 0.86275066 0.423639   0.26390731]\n",
            "[0.07977426 0.85552701 0.26580546 0.27255694]\n",
            "[0.09528286 0.91331621 0.37138237 0.20933372]\n",
            "[0.11537731 0.94943445 0.37722913 0.2164899 ]\n",
            "[0.08997237 0.85191519 0.31305247 0.22156143]\n",
            "[0.10017047 0.94943445 0.37722913 0.24660806]\n",
            "[0.13335945 0.91331621 0.2897654  0.28537585]\n",
            "[0.11905788 0.85552701 0.2626145  0.29819477]\n",
            "[0.11905788 0.85552701 0.2626145  0.27255694]\n",
            "[0.08707593 0.84830336 0.31115168 0.23378915]\n",
            "[0.11326501 0.87719796 0.28391864 0.27821967]\n",
            "[0.06788675 0.88442161 0.3201894  0.24094533]\n",
            "[0.12056667 0.86997431 0.30415912 0.27106349]\n",
            "[0.10717037 0.88442161 0.31699843 0.22812641]\n",
            "[0.08967061 0.86636249 0.2997224  0.23587379]\n",
            "[0.63234026 0.         1.         0.        ]\n",
            "[0.11326501 0.87719796 0.28391864 0.27821967]\n",
            "[0.12026491 0.91331621 0.31593478 0.25376424]\n",
            "[0.1217737  0.92776351 0.3574794  0.23945188]\n",
            "[0.10958443 0.88080979 0.28581943 0.26599196]\n",
            "[0.096067   0.84469154 0.27997267 0.25883578]\n",
            "[0.11417028 0.89164526 0.32390885 0.23528259]\n",
            "[0.11676496 0.90970438 0.31247957 0.2437767 ]\n",
            "[0.11827375 0.92415168 0.35402419 0.22305487]\n",
            "[0.13335945 0.85552701 0.31487112 0.22812641]\n",
            "[0.09377408 0.89886891 0.32983775 0.21082716]\n",
            "[0.096067   0.84469154 0.27997267 0.25883578]\n",
            "[0.1368594  0.85913884 0.31832633 0.23811396]\n",
            "[0.05479222 0.88803343 0.32045364 0.23811396]\n",
            "[0.09667051 0.87358614 0.30663281 0.23662051]\n",
            "[0.08967061 0.86636249 0.423639   0.23587379]\n",
            "[0.09256705 0.84107971 0.27651747 0.24243877]\n",
            "[0.09256705 0.84107971 0.27651747 0.22663296]\n",
            "[0.11537731 0.94943445 0.37722913 0.19085206]\n",
            "[0.09866168 0.80496147 0.24343767 0.27330366]\n",
            "[0.07977426 0.85552701 0.26580546 0.27255694]\n",
            "[1. 0. 1. 1.]\n",
            "[0.10717037 0.86997431 0.32771044 0.21082716]\n",
            "[0.11356676 0.86275066 0.32125306 0.24094533]\n",
            "[0.12726482 0.92053986 0.32284519 0.24810151]\n",
            "[0.10427393 0.90970438 0.34020337 0.20874251]\n",
            "[0.10717037 0.88442161 0.31699843 0.21530749]\n",
            "[0.12605779 0.83385606 0.29463064 0.24169205]\n",
            "[0.13335945 0.85552701 0.31487112 0.22812641]\n",
            "[0.1185755  0.93859898 0.31487112 0.21515197]\n",
            "[0.11537731 0.91331621 0.31912574 0.24094533]\n",
            "[0.07687783 0.88080979 0.2890104  0.26599196]\n",
            "[0.11616144 0.88080979 0.28581943 0.26599196]\n",
            "[0.11127384 0.91692803 0.34711378 0.22871761]\n",
            "[0.07687783 1.         0.2890104  0.12644644]\n",
            "[0.12726482 0.92053986 0.423639   0.24810151]\n",
            "[0.10596334 0.82663242 0.26367815 0.25973802]\n",
            "[0.09576524 0.83024424 0.2666426  0.26673868]\n",
            "[0.11567906 0.96388175 0.3905592  0.18294916]\n",
            "[0.12467014 0.90248073 0.33427447 0.24601686]\n",
            "[0.09528286 0.91331621 0.37138237 0.20933372]\n",
            "[0.10717037 0.88442161 0.32983775 0.21082716]\n",
            "[0.13746292 0.88803343 0.34498647 0.21589869]\n",
            "[0.10596334 0.82663242 0.26367815 0.25973802]\n",
            "[0. 1. 1. 0.]\n",
            "[0.13366121 0.89886891 0.30309547 0.27106349]\n",
            "[0.1217737  0.92776351 0.3574794  0.24243877]\n",
            "[0.13746292 0.88803343 0.30317761 0.21589869]\n",
            "[0.07687783 0.88080979 0.2890104  0.26599196]\n",
            "[0.13335945 0.82663242 0.26367815 0.28537585]\n",
            "[0.13335945 0.85552701 0.31487112 0.24094533]\n",
            "[0.1185755  0.93859898 0.36735426 0.21515197]\n",
            "[0.12026491 0.91331621 0.31593478 0.25376424]\n",
            "[0.10596334 0.82663242 0.26367815 0.25973802]\n",
            "[0.09576524 0.83024424 0.2666426  0.26673868]\n",
            "[0.11356676 0.86275066 0.29724871 0.26390731]\n",
            "[0.12467014 0.90248073 0.33427447 0.24601686]\n",
            "[0.10427393 0.90970438 0.34020337 0.20874251]\n",
            "[0.09407583 0.85552701 0.31806209 0.24094533]\n",
            "[0.11447204 0.90609256 0.33723892 0.2401986 ]\n",
            "[0.09256705 0.84107971 0.27651747 0.24243877]\n",
            "[0.10427393 0.90970438 0.34020337 0.23438035]\n",
            "[0.11616144 0.88080979 0.31699843 0.26599196]\n",
            "[0.10596334 0.82663242 0.26367815 0.29819477]\n",
            "[0.11905788 0.85552701 0.2626145  0.27255694]\n",
            "[0.12726482 0.92053986 0.32284519 0.24810151]\n",
            "[0.10717037 0.88442161 0.31699843 0.22812641]\n",
            "[0.10427393 0.90970438 0.34020337 0.23438035]\n",
            "[0.11006681 0.85913884 0.2937935  0.2475103 ]\n",
            "[0.11356676 0.86275066 0.29724871 0.26390731]\n",
            "[0.07977426 0.85552701 0.26580546 0.29819477]\n",
            "[0.12635955 0.88442161 0.30796071 0.23378915]\n",
            "[0.14645399 0.88442161 0.31380747 0.24094533]\n",
            "[0.09377408 0.89886891 0.32983775 0.22364608]\n",
            "[0.12605779 0.83385606 0.29463064 0.24169205]\n",
            "[0.11326501 0.84830336 0.28391864 0.27181021]\n",
            "[0.09256705 0.84469154 0.27997267 0.25883578]\n",
            "[0.09528286 0.91331621 0.37138237 0.18369588]\n",
            "[0.12756657 0.93498716 0.34267706 0.2401986 ]\n",
            "[0.10747213 0.89886891 0.3303285  0.23304242]\n",
            "[0.0936232  0.89164526 0.37722913 0.21477861]\n",
            "[0.11417028 0.89164526 0.32390885 0.24810151]\n",
            "[0.11417028 0.89164526 0.32390885 0.23528259]\n",
            "[0.09377408 0.89886891 0.32983775 0.21082716]\n",
            "[0.09986871 0.86275066 0.29675795 0.24169205]\n",
            "[0.13746292 0.88803343 0.34498647 0.21589869]\n",
            "[0.10596334 0.82663242 0.26367815 0.28537585]\n",
            "[0.13456648 0.91331621 0.3681914  0.18369588]\n",
            "[0.12635955 0.84830336 0.30796071 0.23378915]\n",
            "[0.10596334 0.82663242 0.26367815 0.29819477]\n",
            "[0.10701949 0.87719796 0.3103334  0.23207786]\n",
            "[0.1083774  0.94221081 0.37031872 0.20933372]\n",
            "[0.09866168 0.80496147 0.24343767 0.29894149]\n",
            "[0.10017047 0.94221081 0.31008802 0.24660806]\n",
            "[0.09866168 0.80496147 0.24343767 0.27330366]\n",
            "[0.10077398 1.         0.33674816 0.17772211]\n",
            "[0.10611422 0.83385606 0.27651747 0.29424332]\n",
            "[0.11127384 0.91692803 0.34711378 0.22871761]\n",
            "[0.12635955 0.84830336 0.30796071 0.23378915]\n",
            "[0.09256705 0.84107971 0.27651747 0.23304242]\n",
            "[0.08098129 0.91331621 0.37722913 0.25376424]\n",
            "[0.10717037 0.93498716 0.33936623 0.2401986 ]\n",
            "[0.10717037 0.94221081 0.37031872 0.22215264]\n",
            "[0.11127384 0.91692803 0.34711378 0.21589869]\n",
            "[0.10922211 0.90067482 0.33205611 0.22842201]\n",
            "[0.10017047 0.87719796 0.31008802 0.23378915]\n",
            "[0.10717037 0.88442161 0.31699843 0.22812641]\n",
            "[0.10596334 0.82663242 0.26367815 0.27255694]\n",
            "[0.10922211 0.91331621 0.33205611 0.22842201]\n",
            "[0.11187735 0.94582263 0.3303285  0.20009289]\n",
            "[0.10732125 0.89164526 0.32366347 0.24340333]\n",
            "[0.1226184  0.88622752 0.31921679 0.21530749]\n",
            "[0.1083774  0.94221081 0.37031872 0.24094533]\n",
            "[0.10822652 0.93498716 0.36365368 0.18764733]\n",
            "[0.10511864 0.8681684  0.30194076 0.24705918]\n",
            "[0.10596334 0.82663242 0.423639   0.29178531]\n",
            "[0.08967061 0.86636249 0.2997224  0.23587379]\n",
            "[0.09377408 0.89886891 0.32983775 0.21082716]\n",
            "[0.10451512 0.91331621 0.27528062 0.26927445]\n",
            "[0.1226184  0.88622752 0.31921679 0.25854018]\n",
            "[0.10777389 0.94943445 0.34365857 0.21873006]\n",
            "[0.10717037 0.87539205 0.3086058  0.24951719]\n",
            "[0.1083774  0.94221081 0.37031872 0.21574318]\n",
            "[0.10596334 0.91692803 0.26367815 0.26614748]\n",
            "[0.10732125 0.89164526 0.32366347 0.23699388]\n",
            "[0.10701949 0.87719796 0.3103334  0.23207786]\n",
            "[0.10732125 0.89164526 0.32366347 0.24981279]\n",
            "[0.10801508 0.84288563 0.27873583 0.28567146]\n",
            "[0.11112296 0.91331621 0.34044875 0.21985015]\n",
            "[0.09256705 0.84107971 0.3303285  0.26807661]\n",
            "[0.10717037 0.94943445 0.31699843 0.22812641]\n",
            "[0.11127384 0.88442161 0.34711378 0.22230815]\n",
            "[0.10732125 0.89164526 0.32366347 0.24340333]\n",
            "[0.10732125 0.89164526 0.32366347 0.23699388]\n",
            "[0. 1. 1. 0.]\n",
            "[0.11996315 0.84107971 0.27749898 0.2868693 ]\n",
            "[0.10526952 0.87539205 0.3086058  0.24951719]\n",
            "[0.1217737  0.92776351 0.3574794  0.21381405]\n",
            "[0.10701949 0.87719796 0.3103334  0.18070899]\n",
            "[0.1066423  0.85913884 0.29367081 0.2868693 ]\n",
            "[0.10898092 0.9711054  0.39697886 0.16789008]\n",
            "[0.10511864 0.8681684  0.31699843 0.24705918]\n",
            "[0.10535983 0.79773782 0.23701801 0.28836274]\n",
            "[0.10717037 0.88442161 0.31699843 0.23453587]\n",
            "[0.10982562 1.         0.423639   0.21261621]\n",
            "[0.1083774  0.94221081 0.37031872 0.1965148 ]\n",
            "[0.10611422 0.83385606 0.27034319 0.29424332]\n",
            "[0.10511864 0.8681684  0.30194076 0.25346864]\n",
            "[0.10511864 0.8681684  0.30194076 0.18070899]\n",
            "[0.10922211 0.90067482 0.33205611 0.23483147]\n",
            "[0.1083774  0.94221081 0.37031872 0.21574318]\n",
            "[0.10632567 0.92595759 0.35526104 0.1962192 ]\n",
            "[0.10922211 0.90067482 0.33205611 0.24124093]\n",
            "[0.11127384 0.88442161 0.31699843 0.23453587]\n",
            "[0.10596334 0.82663242 0.26367815 0.26614748]\n",
            "[0.10739669 0.89525708 0.32699599 0.26711204]\n",
            "[0.10656686 0.85552701 0.29033829 0.25675113]\n",
            "[0.10762301 0.90609256 0.33699354 0.22909097]\n",
            "[0.10511864 0.8681684  0.30194076 0.25346864]\n",
            "[0.10845284 0.94582263 0.37365123 0.21381405]\n",
            "[0.10922211 0.90067482 0.33205611 0.22842201]\n",
            "[0.10427393 0.90970438 0.31699843 0.23438035]\n",
            "[0.1066423  0.85913884 0.29367081 0.2868693 ]\n",
            "[0.10694405 0.87358614 0.30700088 0.27896639]\n",
            "[0.1030669  0.85191519 0.28688309 0.26599196]\n",
            "[0.10732125 0.89164526 0.32366347 0.23699388]\n",
            "[0.10656686 0.85552701 0.29033829 0.26957005]\n",
            "[0.10845284 0.94582263 0.37365123 0.23945188]\n",
            "[0.10596334 0.82663242 0.26367815 0.25973802]\n",
            "[0.10511864 0.8681684  0.30194076 0.25346864]\n",
            "[0.10732125 0.89164526 0.32366347 0.23699388]\n",
            "[0.10952386 0.91512212 0.31699843 0.22051911]\n",
            "[0.11063261 0.88622752 0.31878738 0.21664542]\n",
            "[0.11127384 0.87719796 0.3103334  0.24489678]\n",
            "[0.10668002 0.86094475 0.423639   0.2377406 ]\n",
            "[0.10622738 0.8392738  0.27534197 0.17772211]\n",
            "[0.10922211 0.90067482 0.33205611 0.22842201]\n",
            "[0.10845284 0.90970438 0.37365123 0.23438035]\n",
            "[0.10801508 0.84288563 0.27873583 0.26003362]\n",
            "[0.10952386 0.91512212 0.34538618 0.22051911]\n",
            "[0.10766073 0.90789847 0.3386598  0.24415006]\n",
            "[0.11112296 0.90970438 0.34044875 0.21985015]\n",
            "[0.10739669 0.88442161 0.31699843 0.24094533]\n",
            "[0.1083774  0.94221081 0.37031872 0.1965148 ]\n",
            "[0.10671774 0.86275066 0.423639   0.25279968]\n",
            "[0.11006681 0.85913884 0.2937935  0.27314814]\n",
            "[0.10526952 0.87539205 0.3086058  0.24951719]\n",
            "[0.10932783 0.94672559 0.37451503 0.17940995]\n",
            "[0.10922211 0.90067482 0.33205611 0.24124093]\n",
            "[0.10629538 0.88351865 0.31613463 0.27534942]\n",
            "[0.10804536 0.88532457 0.31786224 0.20654123]\n",
            "[0.10501292 0.82211763 0.25948183 0.3024807 ]\n",
            "[0.10668002 0.86094475 0.29533707 0.2377406 ]\n",
            "[0.11127384 0.85733293 0.29200455 0.27181021]\n",
            "[0.10858087 0.86997431 0.30372971 0.22916873]\n",
            "[0.10781161 0.91512212 0.34532483 0.17772211]\n",
            "[0.1030669  0.87539205 0.28688309 0.26599196]\n",
            "[0.10845284 0.90067482 0.33205611 0.22842201]\n",
            "[0.10652914 0.8537211  0.3103334  0.24169205]\n",
            "[0.10747213 0.8826157  0.31520949 0.26524524]\n",
            "[0.10876203 0.9196369  0.34952115 0.23591267]\n",
            "[0.11127384 0.91692803 0.34711378 0.21589869]\n",
            "[0.10660458 0.85733293 0.29200455 0.29744805]\n",
            "[0.10845284 0.94582263 0.37365123 0.21381405]\n",
            "[0.11017253 0.9051896  0.33625243 0.22413608]\n",
            "[0.10724581 0.88803343 0.32033095 0.27106349]\n",
            "[0.10801508 0.87539205 0.27873583 0.28567146]\n",
            "[0.10845284 0.87358614 0.30700088 0.21477861]\n",
            "[0.1030669  0.85191519 0.28688309 0.25317304]\n",
            "[0.10781161 0.91512212 0.34532483 0.25301752]\n",
            "[0.10660458 0.85733293 0.29200455 0.29744805]\n",
            "[0.10660458 0.85733293 0.29200455 0.29744805]\n",
            "[0.10621994 0.87990683 0.31280212 0.25805018]\n",
            "[0.10827168 0.89616004 0.32785979 0.21589869]\n",
            "[0.10724581 0.88803343 0.32033095 0.27106349]\n",
            "[0.11127384 0.91692803 0.34711378 0.22871761]\n",
            "[0.10781161 0.91512212 0.34532483 0.2401986 ]\n",
            "[0.10596334 0.82663242 0.26367815 0.27255694]\n",
            "[0.10621994 0.87990683 0.31280212 0.25805018]\n",
            "[0.10929755 0.90428665 0.33538863 0.25854018]\n",
            "[0.10728353 0.88983935 0.32199721 0.28612258]\n",
            "[0.10618223 0.88442161 0.31113586 0.21530749]\n",
            "[0.10845284 0.94582263 0.37365123 0.23945188]\n",
            "[0.10668002 0.86094475 0.29533707 0.21589869]\n",
            "[0.11063261 0.88622752 0.31878738 0.21664542]\n",
            "[0.10958443 0.8826157  0.31533218 0.21306733]\n",
            "[0.10652914 0.8537211  0.28867204 0.24169205]\n",
            "[0.10922211 0.90067482 0.33205611 0.22842201]\n",
            "[0.11063261 0.88622752 0.31878738 0.21664542]\n",
            "[0.10747213 0.91512212 0.34544752 0.20083961]\n",
            "[0.10929755 0.90428665 0.33538863 0.25854018]\n",
            "[0.10611422 0.83385606 0.27034319 0.26860548]\n",
            "[0.11063261 0.88622752 0.31878738 0.21664542]\n",
            "[0.10724581 0.88803343 0.32033095 0.25824457]\n",
            "[0.10652914 0.8537211  0.28867204 0.22887313]\n",
            "[0.10752871 0.90157778 0.33282789 0.25563105]\n",
            "[0.10724581 0.88803343 0.32033095 0.24169205]\n",
            "[0.10717037 0.88442161 0.31699843 0.22812641]\n",
            "[0.10728353 0.88983935 0.3103334  0.22193479]\n",
            "[0.10869802 0.95756106 0.38448191 0.23304242]\n",
            "[0.10701949 0.87719796 0.3103334  0.23207786]\n",
            "[0.10668002 0.86094475 0.29533707 0.2377406 ]\n",
            "[0.10922211 0.90067482 0.33205611 0.24124093]\n",
            "[0.10749099 0.89977187 0.33116163 0.24057197]\n",
            "[0.10321778 0.85913884 0.29354812 0.26204051]\n",
            "[0.10713265 0.8826157  0.31533218 0.22588624]\n",
            "[0.10732125 0.89164526 0.32366347 0.23699388]\n",
            "[0.10918439 0.89886891 0.33038985 0.21336293]\n",
            "[0.10701949 0.87719796 0.3103334  0.24489678]\n",
            "[0.10564273 0.81128216 0.24951495 0.2729303 ]\n",
            "[0.11537731 0.89164526 0.32366347 0.23699388]\n",
            "[0.10741555 0.89616004 0.32782912 0.2104538 ]\n",
            "[0.10668002 0.86094475 0.29533707 0.2377406 ]\n",
            "[0.10724581 0.88803343 0.32033095 0.25824457]\n",
            "[0.10922211 0.90067482 0.33205611 0.24124093]\n",
            "[0.10717037 0.88442161 0.31699843 0.22812641]\n",
            "[0.10427393 0.90970438 0.34020337 0.23438035]\n",
            "[0.10709493 0.88080979 0.31366592 0.23945188]\n",
            "[0.10752871 0.90157778 0.33282789 0.25563105]\n",
            "[0.10747213 0.82663242 0.26367815 0.25973802]\n",
            "[0.10668002 0.86094475 0.29533707 0.2377406 ]\n",
            "[0.10652914 0.8537211  0.28867204 0.24169205]\n",
            "[0.1050432  0.86455657 0.29860824 0.22335048]\n",
            "[0.10427393 0.90970438 0.34020337 0.23438035]\n",
            "[0.1083774  0.94221081 0.37031872 0.20933372]\n",
            "[0.10511864 0.8681684  0.30194076 0.25346864]\n",
            "[0.10724581 0.8537211  0.32033095 0.25824457]\n",
            "[0.10694405 0.87358614 0.30700088 0.21477861]\n",
            "[0.10728353 0.88983935 0.32199721 0.22193479]\n",
            "[0.10600106 0.82843833 0.26534441 0.28761602]\n",
            "[0.10596334 0.82663242 0.26367815 0.25973802]\n",
            "[0.10813222 0.93047237 0.35948803 0.23982524]\n",
            "[0.10918439 0.89886891 0.33038985 0.21336293]\n",
            "[0.11159446 0.91692803 0.36127698 0.21552533]\n",
            "[0.11006681 0.85913884 0.2937935  0.2475103 ]\n",
            "[0.11134928 1.         0.3504463  0.17772211]\n",
            "[0.10575987 0.89886891 0.33026716 0.25272192]\n",
            "[0.10632567 0.92595759 0.35526104 0.22185703]\n",
            "[0.10728353 0.88983935 0.32199721 0.18070899]\n",
            "[0.10515636 0.86997431 0.30360702 0.26852773]\n",
            "[0.11537731 0.81940877 0.25698245 0.28634813]\n",
            "[0.10612565 0.87539205 0.30863647 0.23967744]\n",
            "[0.11127384 0.91692803 0.34711378 0.22871761]\n",
            "[0.11127384 0.91692803 0.34711378 0.22871761]\n",
            "[0.10684976 0.86907136 0.30283523 0.24131869]\n",
            "[0.10777389 0.91331621 0.34365857 0.22513952]\n",
            "[0.10717037 0.88442161 0.31699843 0.22812641]\n",
            "[0.10724581 0.88803343 0.32033095 0.25824457]\n",
            "[0.1083774  0.94221081 0.3103334  0.22215264]\n",
            "[0.10845284 0.94582263 0.37365123 0.23945188]\n",
            "[0.10616337 0.87719796 0.31030273 0.19085206]\n",
            "[0.10717037 0.88803343 0.32036162 0.19703596]\n",
            "[0.10660458 0.88442161 0.29200455 0.27181021]\n",
            "[0.1058879  0.82302059 0.26034564 0.24243877]\n",
            "[0.10616337 0.87719796 0.31030273 0.25473653]\n",
            "[0.10705721 0.87900387 0.31199966 0.19576808]\n",
            "[0.10656686 0.85552701 0.29033829 0.25675113]\n",
            "[0.10511864 0.94582263 0.30194076 0.23424027]\n",
            "[0.10701949 0.86997431 0.30360702 0.26211827]\n",
            "[0.10684976 0.86907136 0.30360702 0.24131869]\n",
            "[0.10684976 0.86907136 0.30283523 0.24131869]\n",
            "[0.10705721 0.87900387 0.31699843 0.19576808]\n",
            "[0.10717037 0.91512212 0.34544752 0.20083961]\n",
            "[0.10720809 0.88622752 0.34711378 0.25600441]\n",
            "[0.10741555 0.88803343 0.32782912 0.2104538 ]\n",
            "[0.10681204 0.86726544 0.30116898 0.2262596 ]\n",
            "[0.11123612 0.91512212 0.34544752 0.20083961]\n",
            "[0.10596334 0.82663242 0.26367815 0.27255694]\n",
            "[0.10612565 0.87539205 0.30863647 0.23967744]\n",
            "[0.10515636 0.86997431 0.30360702 0.26211827]\n",
            "[0.10781161 0.91512212 0.34532483 0.19085206]\n",
            "[0.10274629 0.83656493 0.27271989 0.26636532]\n",
            "[0.10495634 0.81940877 0.25698245 0.28634813]\n",
            "[0.10781161 0.91512212 0.34532483 0.22871761]\n",
            "[0.10724581 0.88803343 0.32033095 0.27106349]\n",
            "[0.10813222 0.93047237 0.35948803 0.23982524]\n",
            "[0.10656686 0.85552701 0.29033829 0.25675113]\n",
            "[0.11127384 0.91692803 0.34711378 0.22871761]\n",
            "[0.10564273 0.81128216 0.24951495 0.2729303 ]\n",
            "[0.10511864 0.86997431 0.30194076 0.2598781 ]\n",
            "[0.10709493 0.88080979 0.31366592 0.21082716]\n",
            "[0.10858087 0.86997431 0.30372971 0.23557819]\n",
            "[0.10929755 0.90428665 0.33538863 0.26494964]\n",
            "[0.10724581 0.88803343 0.32033095 0.25824457]\n",
            "[0.10724581 0.84830336 0.28355057 0.23587379]\n",
            "[0.11134928 0.92053986 0.3504463  0.24601686]\n",
            "[0.10938441 0.94943445 0.37701442 0.24169205]\n",
            "[0.1030669  0.85191519 0.28688309 0.25317304]\n",
            "[0.1083774  0.94221081 0.37031872 0.20933372]\n",
            "[0.10299147 0.84830336 0.28355057 0.23587379]\n",
            "[0.10552213 0.94943445 0.28197633 0.25548325]\n",
            "[0.10717037 0.8537211  0.28867204 0.24169205]\n",
            "[0.10869802 0.95756106 0.38448191 0.20896036]\n",
            "[0.10773617 0.9115103  0.34199232 0.21008044]\n",
            "[0.10299147 0.84830336 0.28355057 0.23587379]\n",
            "[0.10958443 0.93227829 0.36127698 0.21552533]\n",
            "[0.10511864 0.8681684  0.30194076 0.24169205]\n",
            "[0.10922211 0.90067482 0.37365123 0.24765039]\n",
            "[0.10660458 0.85733293 0.29200455 0.27181021]\n",
            "[0.10427393 0.90970438 0.34020337 0.23438035]\n",
            "[0.10777389 0.91331621 0.37722913 0.22513952]\n",
            "[0.10938441 0.94943445 0.37701442 0.19554252]\n",
            "[0.1082151  0.88442161 0.3253604  0.24221321]\n",
            "[0.10684976 0.86907136 0.30283523 0.25413761]\n",
            "[0.10954272 0.91602508 0.34621931 0.23445811]\n",
            "[0.10817738 0.89164526 0.32369414 0.22715413]\n",
            "[0.10511864 0.8681684  0.30194076 0.23424027]\n",
            "[0.1030669  0.85191519 0.28688309 0.25317304]\n",
            "[0.11123612 0.91512212 0.34544752 0.20083961]\n",
            "[0.1050432  0.86455657 0.29860824 0.21694102]\n",
            "[0.10918439 0.89886891 0.33038985 0.21977239]\n",
            "[0.10777389 0.91331621 0.34365857 0.22513952]\n",
            "[0.10801508 0.84288563 0.27873583 0.26644308]\n",
            "[0.10552213 0.84649745 0.28197633 0.25548325]\n",
            "[0.10922211 0.90067482 0.32033095 0.23483147]\n",
            "[0.10929755 0.90428665 0.33538863 0.26494964]\n",
            "[0.10724581 0.88803343 0.32033095 0.25824457]\n",
            "[0.10596334 0.82663242 0.26367815 0.23945188]\n",
            "[0.10612565 0.87539205 0.30863647 0.23967744]\n",
            "[0.10788705 0.91873394 0.34865735 0.27031677]\n",
            "[0.10717037 0.94943445 0.31699843 0.22812641]\n",
            "[0.10660458 0.85733293 0.29200455 0.21530749]\n",
            "[0.10299147 0.84830336 0.28355057 0.23587379]\n",
            "[0.10752871 0.90157778 0.33282789 0.25563105]\n",
            "[0.10564273 0.81128216 0.24951495 0.2729303 ]\n",
            "[0.10274629 0.83656493 0.27271989 0.26636532]\n",
            "[0.10713265 0.8826157  0.31533218 0.22588624]\n",
            "[0.1058879  0.82302059 0.26034564 0.24243877]\n",
            "[0.1083774  0.94221081 0.3103334  0.22215264]\n",
            "[0.10515636 0.86997431 0.30360702 0.26211827]\n",
            "[0.10922211 0.90067482 0.33205611 0.24765039]\n",
            "[0.11159446 0.93227829 0.36127698 0.21552533]\n",
            "[0.10929755 0.90428665 0.33538863 0.26494964]\n",
            "[0.10777389 0.91331621 0.34365857 0.22513952]\n",
            "[0.10724581 0.87719796 0.31030273 0.26755544]\n",
            "[0.10552213 0.84649745 0.28197633 0.25548325]\n",
            "[0.1058879  0.82302059 0.26034564 0.24243877]\n",
            "[0.10922211 0.90067482 0.33205611 0.23483147]\n",
            "[0.10922211 0.90067482 0.33205611 0.22201255]\n",
            "[0.10652914 0.8537211  0.28867204 0.24169205]\n",
            "[0.11022911 0.90789847 0.33875182 0.22104027]\n",
            "[0.10929755 0.90428665 0.33538863 0.26494964]\n",
            "[0.10922211 0.90067482 0.33205611 0.24765039]\n",
            "[0.10717037 0.88442161 0.31699843 0.22812641]\n",
            "[0.10684976 0.88803343 0.30283523 0.24131869]\n",
            "[0.10881861 0.92234577 0.35202054 0.22640741]\n",
            "[0.11228085 0.92415168 0.35380949 0.20210749]\n",
            "[0.1083774  0.94221081 0.37031872 0.20933372]\n",
            "[0.10370814 0.8826157  0.3103334  0.26524524]\n",
            "[0.10705721 0.87900387 0.31199966 0.26852773]\n",
            "[0.10656686 0.85552701 0.29033829 0.19085206]\n",
            "[0.10616337 0.88442161 0.31030273 0.25473653]\n",
            "[0.10299147 0.84830336 0.28355057 0.23587379]\n",
            "[0.10845284 0.94582263 0.37365123 0.23945188]\n",
            "[0.1083774  0.94221081 0.37031872 0.22215264]\n",
            "[0.10810194 0.88803343 0.32036162 0.17772211]\n",
            "[0.10616337 0.87719796 0.31030273 0.25473653]\n",
            "[0.10705721 0.87900387 0.31199966 0.19576808]\n",
            "[0.10495634 0.81940877 0.25698245 0.18070899]\n",
            "[0.10713265 0.8826157  0.31533218 0.22588624]\n",
            "[0.10620852 0.83837085 0.37722913 0.24206541]\n",
            "[0.10777389 0.91331621 0.34365857 0.22513952]\n",
            "[0.10717037 0.88442161 0.31699843 0.24094533]\n",
            "[0.10724581 0.88803343 0.32033095 0.27106349]\n",
            "[0.11063261 0.88622752 0.31878738 0.21664542]\n",
            "[0.10616337 0.87719796 0.423639   0.17772211]\n",
            "[0.10652914 0.87719796 0.31030273 0.26755544]\n",
            "[0.11127384 0.91692803 0.34711378 0.21589869]\n",
            "[0.11063261 0.87719796 0.31878738 0.21664542]\n",
            "[0.10515636 0.91512212 0.34544752 0.26852773]\n",
            "[0.10781161 0.94943445 0.34532483 0.25301752]\n",
            "[0.10922211 0.89616004 0.31699843 0.22842201]\n",
            "[0.10785676 0.88442161 0.30953094 0.22752749]\n",
            "[0.10717037 0.88442161 0.31699843 0.25376424]\n",
            "[0.10869802 0.88803343 0.38448191 0.20896036]\n",
            "[0.1099085  0.88803343 0.32458862 0.21500417]\n",
            "[0.10552213 0.84649745 0.28197633 0.25548325]\n",
            "[0.10427393 0.90970438 0.34020337 0.23438035]\n",
            "[0.10600106 0.82843833 0.26534441 0.28761602]\n",
            "[0.10826025 0.85010928 0.28956651 0.22954209]\n",
            "[0.10620852 0.83837085 0.27450884 0.24206541]\n",
            "[0.10773617 0.9115103  0.31699843 0.21008044]\n",
            "[0.10938441 0.94943445 0.37701442 0.19554252]\n",
            "[0.10608049 0.91873394 0.34443036 0.25234856]\n",
            "[0.10616337 0.87719796 0.31030273 0.25473653]\n",
            "[0.10777389 0.91331621 0.34365857 0.22513952]\n",
            "[0.1083774  0.94221081 0.37031872 0.22215264]\n",
            "[0.10479802 0.84830336 0.28777756 0.23945188]\n",
            "[0.10274629 0.83656493 0.27271989 0.26636532]\n",
            "[0.10773617 0.9115103  0.34199232 0.21008044]\n",
            "[0.10543926 0.88803343 0.31610396 0.24027636]\n",
            "[0.10596334 0.82663242 0.26367815 0.27255694]\n",
            "[0.11127384 0.91692803 0.34711378 0.22871761]\n",
            "[0.10652914 0.8537211  0.28867204 0.24169205]\n",
            "[0.10749099 0.89977187 0.33116163 0.22775305]\n",
            "[0.10511864 0.87268318 0.30194076 0.25346864]\n",
            "[0.10652914 0.8537211  0.28867204 0.22887313]\n",
            "[0.10274629 0.83656493 0.27271989 0.26636532]\n",
            "[0.10713265 0.8826157  0.31533218 0.21664542]\n",
            "[0.10781161 0.91512212 0.34532483 0.2401986 ]\n",
            "[0.10890149 0.88080979 0.31789291 0.24161429]\n",
            "[0.10620852 0.83837085 0.27450884 0.21530749]\n",
            "[0.10656686 0.85552701 0.29033829 0.25675113]\n",
            "[0.11063261 0.94582263 0.31878738 0.21664542]\n",
            "[0.1083774  0.94221081 0.32033095 0.22215264]\n",
            "[0.10652914 0.8537211  0.28867204 0.22887313]\n",
            "[0.11006681 0.85913884 0.2937935  0.2475103 ]\n",
            "[0.10749099 0.89977187 0.33116163 0.23945188]\n",
            "[0.11063261 0.95756106 0.31878738 0.20784027]\n",
            "[0.10592018 0.91105882 0.33734876 0.25085512]\n",
            "[0.10717037 0.88442161 0.31699843 0.23982524]\n",
            "[0.10761358 0.90564108 0.33657697 0.22364608]\n",
            "[0.10632367 0.88442161 0.31738433 0.24094533]\n",
            "[0.10238052 0.86004179 0.29435058 0.27828972]\n",
            "[0.10640111 0.9340842  0.35859356 0.25085512]\n",
            "[0.10745327 0.89796595 0.32949538 0.21157388]\n",
            "[0.10761358 0.90564108 0.33657697 0.22364608]\n",
            "[0.10713265 0.8826157  0.31533218 0.22476616]\n",
            "[0.11159446 0.93227829 0.36127698 0.21440525]\n",
            "[0.10869802 0.95756106 0.38448191 0.22065919]\n",
            "[0.10733068 0.89209674 0.32408003 0.2401986 ]\n",
            "[0.11191507 0.94762854 0.31699843 0.21403189]\n",
            "[0.10543926 0.88803343 0.31610396 0.2519752 ]\n",
            "[0.10701006 0.87674648 0.30991683 0.24057197]\n",
            "[0.10628396 0.84198267 0.27784135 0.25824457]\n",
            "[0.10584275 0.86184771 0.29613953 0.2539898 ]\n",
            "[0.10797192 0.92279725 0.35240643 0.23945188]\n",
            "[0.10817738 0.89164526 0.32369414 0.22603404]\n",
            "[0.10596334 0.82663242 0.26367815 0.27143685]\n",
            "[0.10745327 0.89796595 0.32949538 0.21157388]\n",
            "[0.10845284 0.94582263 0.37365123 0.19085206]\n",
            "[0.10901864 0.97291131 0.39864511 0.20746691]\n",
            "[0.10873574 0.95936697 0.38614817 0.2234594 ]\n",
            "[0.10845284 0.87448909 0.3079567  0.24601686]\n",
            "[0.11219797 0.96117288 0.38793712 0.19915949]\n",
            "[0.1068046  0.90789847 0.33862913 0.25286972]\n",
            "[0.10632168 0.84378858 0.27950761 0.28612258]\n",
            "[0.10841512 0.94401672 0.37198497 0.22271268]\n",
            "[0.10688747 0.87087727 0.30450149 0.25525769]\n",
            "[0.10761358 0.90564108 0.33657697 0.22364608]\n",
            "[0.10632168 0.84378858 0.27950761 0.28612258]\n",
            "[0.10701006 0.87674648 0.30991683 0.23945188]\n",
            "[0.1070875  0.92144281 0.31699843 0.23799732]\n",
            "[0.10684976 0.86907136 0.30283523 0.23963856]\n",
            "[0.10672717 0.86320214 0.29741989 0.25544437]\n",
            "[0.10555985 0.84830336 0.28364259 0.26998229]\n",
            "[0.10644427 0.8496578  0.28492295 0.27031677]\n",
            "[0.10749099 0.84378858 0.27950761 0.28612258]\n",
            "[0.10901864 0.97291131 0.39864511 0.20746691]\n",
            "[0.10761358 0.90564108 0.33657697 0.22364608]\n",
            "[0.10717037 0.88442161 0.31699843 0.23982524]\n",
            "[0.10238052 0.86004179 0.29435058 0.27828972]\n",
            "[0.10853572 0.90880143 0.3395236  0.24071977]\n",
            "[0.1068046  0.90789847 0.33862913 0.25286972]\n",
            "[0.10724581 0.92279725 0.35240643 0.23945188]\n",
            "[0.11159446 0.93227829 0.36127698 0.21440525]\n",
            "[0.1076513  0.90744699 0.28867204 0.23870516]\n",
            "[0.1080945  0.92866646 0.35782177 0.22420612]\n",
            "[0.10865831 0.91467064 0.34493894 0.22491396]\n",
            "[0.10656686 0.85552701 0.29033829 0.25619109]\n",
            "[0.10797192 0.92279725 0.35240643 0.23945188]\n",
            "[0.10596334 0.97291131 0.26367815 0.27143685]\n",
            "[0.10717037 0.83475902 0.27114565 0.28485469]\n",
            "[0.1030669  0.85191519 0.28688309 0.26487188]\n",
            "[0.1068046  0.90789847 0.33862913 0.27106349]\n",
            "[0.10784933 0.91692803 0.34699109 0.25413761]\n",
            "[0.10865831 0.8537211  0.34493894 0.22491396]\n",
            "[0.10749099 0.95936697 0.38614817 0.2234594 ]\n",
            "[0.1073684  0.82663242 0.32574629 0.25525769]\n",
            "[0.10402876 0.86997431 0.32937269 0.26375179]\n",
            "[0.10853572 0.90880143 0.3395236  0.24071977]\n",
            "[0.10813222 0.93047237 0.35948803 0.23870516]\n",
            "[0.10813222 0.93047237 0.35948803 0.2392652 ]\n",
            "[0.10648398 0.89254822 0.32446593 0.25324308]\n",
            "[0.10724581 0.88622752 0.31866469 0.25432429]\n",
            "[0.10688747 0.87087727 0.30450149 0.25469765]\n",
            "[0.10825481 0.8537211  0.36490337 0.2234594 ]\n",
            "[0.11038743 0.87448909 0.3079567  0.24601686]\n",
            "[0.10717037 0.88442161 0.31699843 0.23982524]\n",
            "[0.10873574 0.95936697 0.38614817 0.2234594 ]\n",
            "[0.10596334 0.82663242 0.26367815 0.27143685]\n",
            "[0.10354783 0.87494057 0.30812789 0.20746691]\n",
            "[0.11219797 0.96117288 0.31699843 0.19915949]\n",
            "[0.10853572 0.90880143 0.3395236  0.24071977]\n",
            "[0.10720809 0.88622752 0.32033095 0.25432429]\n",
            "[0.1083774  0.94221081 0.423639   0.20765359]\n",
            "[0.10688747 0.87087727 0.30450149 0.25525769]\n",
            "[0.10624624 0.84017676 0.27617509 0.25544437]\n",
            "[0.11143415 0.92460316 0.35419538 0.21515197]\n",
            "[0.10688747 0.87087727 0.30450149 0.25469765]\n",
            "[0.10761358 0.90564108 0.33657697 0.22364608]\n",
            "[0.11143415 0.92460316 0.35419538 0.21515197]\n",
            "[0.10853771 0.94988593 0.37740031 0.208587  ]\n",
            "[0.10720809 0.88622752 0.31866469 0.25432429]\n",
            "[0.10724581 0.95936697 0.38614817 0.27106349]\n",
            "[0.10825481 0.93634159 0.36490337 0.2234594 ]\n",
            "[0.11159446 0.93227829 0.36127698 0.21440525]\n",
            "[0.10749099 0.86907136 0.30271255 0.2795576 ]\n",
            "[0.10354783 0.87494057 0.30812789 0.26375179]\n",
            "[0.1080945  0.92866646 0.35782177 0.26852773]\n",
            "[0.10784933 0.91692803 0.34699109 0.25413761]\n",
            "[0.10596334 0.82663242 0.26367815 0.20746691]\n",
            "[0.10596334 0.82663242 0.26367815 0.27143685]\n",
            "[0.10713265 0.8826157  0.37365123 0.22476616]\n",
            "[0.10652914 0.8537211  0.28867204 0.24057197]\n",
            "[0.11143415 0.92460316 0.35419538 0.21515197]\n",
            "[0.10761358 0.90564108 0.33657697 0.22364608]\n",
            "[0.10873574 0.89977187 0.38614817 0.2234594 ]\n",
            "[0.10777389 0.91331621 0.34365857 0.22457948]\n",
            "[0.1076513  0.86997431 0.30360702 0.23870516]\n",
            "[0.10745327 0.89796595 0.32949538 0.2243928 ]\n",
            "[0.10901864 0.97291131 0.30104629 0.26449852]\n",
            "[0.10278401 0.83837085 0.27438615 0.27974428]\n",
            "[0.10752871 0.90157778 0.33282789 0.25451097]\n",
            "[0.10845284 0.94582263 0.37365123 0.2383318 ]\n",
            "[0.10648398 0.89254822 0.32446593 0.25324308]\n",
            "[0.10632168 0.84378858 0.27950761 0.28612258]\n",
            "[0.10624624 0.84017676 0.27617509 0.25544437]\n",
            "[0.10702892 0.87764944 0.31074996 0.24698142]\n",
            "[0.10568045 0.81308807 0.25118121 0.28630926]\n",
            "[0.11537731 0.92776351 0.35698864 0.21611654]\n",
            "[0.10813222 0.93047237 0.35948803 0.2392652 ]\n",
            "[0.10624624 0.84017676 0.27617509 0.25544437]\n",
            "[0.10865831 0.91467064 0.37365123 0.22491396]\n",
            "[0.10841512 0.94401672 0.32318556 0.25122848]\n",
            "[0.10789448 0.87810092 0.3111972  0.24090645]\n",
            "[0.10805678 0.92686055 0.35615552 0.208587  ]\n",
            "[0.10692519 0.87268318 0.30616775 0.27031677]\n",
            "[0.10865831 0.91467064 0.34493894 0.22491396]\n",
            "[0.11219797 0.96117288 0.30360702 0.19915949]\n",
            "[0.1086603  0.95575515 0.37722913 0.19085206]\n",
            "[0.10825481 0.93634159 0.36490337 0.2234594 ]\n",
            "[0.10942213 0.95124037 0.32988127 0.23743728]\n",
            "[0.11143415 0.92460316 0.35419538 0.21515197]\n",
            "[0.1076513  0.90744699 0.32033095 0.27106349]\n",
            "[0.108498   0.90699551 0.33785734 0.22566068]\n",
            "[0.11038743 0.87448909 0.3079567  0.24601686]\n",
            "[0.10749099 0.90834995 0.33907636 0.24679474]\n",
            "[0.10690633 0.87178022 0.30533462 0.26278723]\n",
            "[0.10901864 0.97291131 0.3498457  0.23598271]\n",
            "[0.10672717 0.86320214 0.29741989 0.25544437]\n",
            "[0.108498   0.90699551 0.33785734 0.22566068]\n",
            "[0.10702892 0.87764944 0.31074996 0.24698142]\n",
            "[0.10752871 0.90157778 0.33282789 0.25451097]\n",
            "[0.10970503 0.96478471 0.39117762 0.19404907]\n",
            "[0.10777389 0.91331621 0.29485916 0.2519752 ]\n",
            "[0.10660458 0.85733293 0.34080397 0.24273437]\n",
            "[0.10644626 0.8907423  0.32279967 0.238184  ]\n",
            "[0.10970503 0.82663242 0.39117762 0.19404907]\n",
            "[0.10720809 0.88622752 0.36746411 0.22692857]\n",
            "[0.10825481 0.93634159 0.36490337 0.2234594 ]\n",
            "[0.10767016 0.90834995 0.33907636 0.24679474]\n",
            "[0.11095322 0.90157778 0.33295058 0.21515197]\n",
            "[0.10841512 0.94401672 0.32318556 0.25122848]\n",
            "[0.11095322 0.90157778 0.33295058 0.21515197]\n",
            "[0.11219797 0.96117288 0.38793712 0.19915949]\n",
            "[0.10733068 0.89209674 0.32408003 0.2401986 ]\n",
            "[0.10656686 0.85552701 0.33913771 0.22767529]\n",
            "[0.10690633 0.87178022 0.30533462 0.26278723]\n",
            "[0.10749099 0.89977187 0.33116163 0.23945188]\n",
            "Best parameters: {'base_estimator': DecisionTreeRegressor(), 'n_estimators': 90, 'learning_rate': 0.9934859017224679, 'loss': 'linear'}\n"
          ]
        }
      ]
    },
    {
      "cell_type": "code",
      "source": [
        "default_model = AdaBoostRegressor()\n",
        "best_model_HBA = get_regressor(best_params_HBA)\n",
        "\n",
        "default_model.fit(X_train, y_train)\n",
        "best_model_HBA.fit(X_train, y_train)"
      ],
      "metadata": {
        "id": "tR0gGDs8ab4M",
        "colab": {
          "base_uri": "https://localhost:8080/"
        },
        "outputId": "dab5de7a-9e46-4559-9e0f-f4da1884fd88"
      },
      "execution_count": null,
      "outputs": [
        {
          "output_type": "stream",
          "name": "stdout",
          "text": [
            "[0.10749099 0.89977187 0.33116163 0.23945188]\n"
          ]
        },
        {
          "output_type": "stream",
          "name": "stderr",
          "text": [
            "/usr/local/lib/python3.7/dist-packages/sklearn/utils/validation.py:993: DataConversionWarning: A column-vector y was passed when a 1d array was expected. Please change the shape of y to (n_samples, ), for example using ravel().\n",
            "  y = column_or_1d(y, warn=True)\n",
            "/usr/local/lib/python3.7/dist-packages/sklearn/utils/validation.py:993: DataConversionWarning: A column-vector y was passed when a 1d array was expected. Please change the shape of y to (n_samples, ), for example using ravel().\n",
            "  y = column_or_1d(y, warn=True)\n"
          ]
        },
        {
          "output_type": "execute_result",
          "data": {
            "text/plain": [
              "AdaBoostRegressor(base_estimator=DecisionTreeRegressor(),\n",
              "                  learning_rate=0.9934859017224679, n_estimators=90)"
            ]
          },
          "metadata": {},
          "execution_count": 18
        }
      ]
    },
    {
      "cell_type": "code",
      "source": [
        "default_score_train = default_model.score(X_train, y_train)\n",
        "best_score_HBA_train = best_model_HBA.score(X_train, y_train)\n",
        "\n",
        "print('Default model accuracy:', default_score_train)\n",
        "print('Best model accuracy:', best_score_HBA_train)"
      ],
      "metadata": {
        "colab": {
          "base_uri": "https://localhost:8080/"
        },
        "id": "TlVcircC0EgO",
        "outputId": "60bb6d84-eb9a-42c2-b2b1-1d38992212bc"
      },
      "execution_count": null,
      "outputs": [
        {
          "output_type": "stream",
          "name": "stdout",
          "text": [
            "Default model accuracy: 0.9194804335324581\n",
            "Best model accuracy: 0.9993976022102935\n"
          ]
        }
      ]
    },
    {
      "cell_type": "code",
      "source": [
        "val_scores = cross_val_score(default_model, X_val, y_val)\n",
        "val_scores_best_HBA = cross_val_score(best_model_HBA, X_val, y_val)\n",
        "\n",
        "print(val_scores.mean())\n",
        "print(val_scores_best_HBA.mean())"
      ],
      "metadata": {
        "colab": {
          "base_uri": "https://localhost:8080/"
        },
        "id": "VVEzMXtAxUBW",
        "outputId": "a1a192fa-6064-4f90-f8bc-041e35771c0d"
      },
      "execution_count": null,
      "outputs": [
        {
          "output_type": "stream",
          "name": "stderr",
          "text": [
            "/usr/local/lib/python3.7/dist-packages/sklearn/utils/validation.py:993: DataConversionWarning: A column-vector y was passed when a 1d array was expected. Please change the shape of y to (n_samples, ), for example using ravel().\n",
            "  y = column_or_1d(y, warn=True)\n",
            "/usr/local/lib/python3.7/dist-packages/sklearn/utils/validation.py:993: DataConversionWarning: A column-vector y was passed when a 1d array was expected. Please change the shape of y to (n_samples, ), for example using ravel().\n",
            "  y = column_or_1d(y, warn=True)\n",
            "/usr/local/lib/python3.7/dist-packages/sklearn/utils/validation.py:993: DataConversionWarning: A column-vector y was passed when a 1d array was expected. Please change the shape of y to (n_samples, ), for example using ravel().\n",
            "  y = column_or_1d(y, warn=True)\n",
            "/usr/local/lib/python3.7/dist-packages/sklearn/utils/validation.py:993: DataConversionWarning: A column-vector y was passed when a 1d array was expected. Please change the shape of y to (n_samples, ), for example using ravel().\n",
            "  y = column_or_1d(y, warn=True)\n",
            "/usr/local/lib/python3.7/dist-packages/sklearn/utils/validation.py:993: DataConversionWarning: A column-vector y was passed when a 1d array was expected. Please change the shape of y to (n_samples, ), for example using ravel().\n",
            "  y = column_or_1d(y, warn=True)\n",
            "/usr/local/lib/python3.7/dist-packages/sklearn/utils/validation.py:993: DataConversionWarning: A column-vector y was passed when a 1d array was expected. Please change the shape of y to (n_samples, ), for example using ravel().\n",
            "  y = column_or_1d(y, warn=True)\n",
            "/usr/local/lib/python3.7/dist-packages/sklearn/utils/validation.py:993: DataConversionWarning: A column-vector y was passed when a 1d array was expected. Please change the shape of y to (n_samples, ), for example using ravel().\n",
            "  y = column_or_1d(y, warn=True)\n",
            "/usr/local/lib/python3.7/dist-packages/sklearn/utils/validation.py:993: DataConversionWarning: A column-vector y was passed when a 1d array was expected. Please change the shape of y to (n_samples, ), for example using ravel().\n",
            "  y = column_or_1d(y, warn=True)\n",
            "/usr/local/lib/python3.7/dist-packages/sklearn/utils/validation.py:993: DataConversionWarning: A column-vector y was passed when a 1d array was expected. Please change the shape of y to (n_samples, ), for example using ravel().\n",
            "  y = column_or_1d(y, warn=True)\n"
          ]
        },
        {
          "output_type": "stream",
          "name": "stdout",
          "text": [
            "0.6679663675036644\n",
            "0.6903358618821407\n"
          ]
        },
        {
          "output_type": "stream",
          "name": "stderr",
          "text": [
            "/usr/local/lib/python3.7/dist-packages/sklearn/utils/validation.py:993: DataConversionWarning: A column-vector y was passed when a 1d array was expected. Please change the shape of y to (n_samples, ), for example using ravel().\n",
            "  y = column_or_1d(y, warn=True)\n"
          ]
        }
      ]
    },
    {
      "cell_type": "code",
      "source": [
        "default_score_test = default_model.score(X_test, y_test)\n",
        "best_score_HBA_test = best_model_HBA.score(X_test, y_test)\n",
        "\n",
        "print('Default model accuracy:', default_score_test)\n",
        "print('Best model accuracy:', best_score_HBA_test)"
      ],
      "metadata": {
        "colab": {
          "base_uri": "https://localhost:8080/"
        },
        "id": "zkq1QASBz_V6",
        "outputId": "91000f61-8578-4d2b-9c11-829ef83cac75"
      },
      "execution_count": null,
      "outputs": [
        {
          "output_type": "stream",
          "name": "stdout",
          "text": [
            "Default model accuracy: 0.8351765554164635\n",
            "Best model accuracy: 0.8688102881606516\n"
          ]
        }
      ]
    },
    {
      "cell_type": "markdown",
      "source": [
        "# AdaBoostReg GWO"
      ],
      "metadata": {
        "id": "JgtsoSLZZbKe"
      }
    },
    {
      "cell_type": "code",
      "execution_count": null,
      "metadata": {
        "id": "7aeylJL0ZbKk"
      },
      "outputs": [],
      "source": [
        "from sklearn.ensemble import AdaBoostRegressor\n",
        "from niapy.problems import Problem\n",
        "from niapy.task import OptimizationType, Task\n",
        "from niapy.algorithms.basic import GreyWolfOptimizer\n",
        "\n",
        "\n",
        "def get_hyperparameters_GWO(x):\n",
        "    \"\"\"     \n",
        "    Fungsi untuk mendapatkan hyperparameters dari nilai x.     \n",
        "    Hyperparamter yang akan digunakan adalah base_estimator,    \n",
        "     n_estimators, learning_rate, dan loss     \n",
        "     \"\"\"\n",
        "    # print(x)\n",
        "    \n",
        "    bases = (DTReg, SVReg, LinReg, SGDReg, MLPReg, KNNReg)\n",
        "    base_estimator = bases[int(x[0] * 5)]\n",
        "    n_estimators = int(x[1] * 100 + 1)\n",
        "    learning_rate = x[2] * 3 + 0.000001\n",
        "    losses = ('linear', 'square', 'exponential')\n",
        "    loss = losses[int(x[3] * 2)]\n",
        "\n",
        "\n",
        "    params = {\n",
        "        'base_estimator': base_estimator,\n",
        "        'n_estimators': n_estimators,\n",
        "        'learning_rate' : learning_rate,\n",
        "        'loss': loss,\n",
        "    }\n",
        "\n",
        "    return params\n",
        "\n",
        "\n",
        "def get_regressor_GWO(x):\n",
        "    \"\"\"     generate regressor berdasarkan hyperparameter yang dipilih.     \"\"\"\n",
        "    params = get_hyperparameters_GWO(x)\n",
        "    return AdaBoostRegressor(**params)"
      ]
    },
    {
      "cell_type": "code",
      "source": [
        "class ABRHyperparameterOptimization_GWO(Problem):\n",
        "    def __init__(self, X_train, y_train):\n",
        "        super().__init__(dimension=4, lower=0, upper=1)\n",
        "        self.X_train = X_train\n",
        "        self.y_train = y_train\n",
        "\n",
        "    def _evaluate(self, x):\n",
        "        model = get_regressor_GWO(x)\n",
        "        scores = cross_val_score(model, self.X_train, self.y_train, cv=5, n_jobs=-1)\n",
        "        return scores.mean()"
      ],
      "metadata": {
        "id": "jdY9QZRDZbKl"
      },
      "execution_count": null,
      "outputs": []
    },
    {
      "cell_type": "code",
      "source": [
        "problem = ABRHyperparameterOptimization_GWO(X_train, y_train)\n",
        "\n",
        "# akan menjalankan maksimalisasi untuk 100 iterasi pada permasalahan dengan populasi 10\n",
        "task = Task(problem, max_iters=100, optimization_type=OptimizationType.MAXIMIZATION)\n",
        "\n",
        "algorithm = GreyWolfOptimizer(population_size=10, seed=1234)\n",
        "best_params_GWO, best_accuracy = algorithm.run(task)\n",
        "\n",
        "print('Best parameters:', get_hyperparameters_GWO(best_params_GWO))"
      ],
      "metadata": {
        "colab": {
          "base_uri": "https://localhost:8080/"
        },
        "outputId": "07a4427a-194f-4a6c-8211-74257bea3dac",
        "id": "JDyj8K82ZbKl"
      },
      "execution_count": null,
      "outputs": [
        {
          "output_type": "stream",
          "name": "stdout",
          "text": [
            "Best parameters: {'base_estimator': DecisionTreeRegressor(), 'n_estimators': 101, 'learning_rate': 0.9322558355057619, 'loss': 'linear'}\n"
          ]
        }
      ]
    },
    {
      "cell_type": "code",
      "source": [
        "best_model_GWO = get_regressor_GWO(best_params_GWO)\n",
        "best_model_GWO.fit(X_train, y_train)"
      ],
      "metadata": {
        "colab": {
          "base_uri": "https://localhost:8080/"
        },
        "outputId": "5b00355a-0e49-4a51-d49f-e4e70f3a3172",
        "id": "AI8jc6RSZbKl"
      },
      "execution_count": null,
      "outputs": [
        {
          "output_type": "stream",
          "name": "stderr",
          "text": [
            "/usr/local/lib/python3.7/dist-packages/sklearn/utils/validation.py:993: DataConversionWarning: A column-vector y was passed when a 1d array was expected. Please change the shape of y to (n_samples, ), for example using ravel().\n",
            "  y = column_or_1d(y, warn=True)\n"
          ]
        },
        {
          "output_type": "execute_result",
          "data": {
            "text/plain": [
              "AdaBoostRegressor(base_estimator=DecisionTreeRegressor(),\n",
              "                  learning_rate=0.9322558355057619, n_estimators=101)"
            ]
          },
          "metadata": {},
          "execution_count": 25
        }
      ]
    },
    {
      "cell_type": "code",
      "source": [
        "best_score_GWO_train = best_model_GWO.score(X_train, y_train)\n",
        "\n",
        "print('Default model accuracy:', default_score_train)\n",
        "print('Best model accuracy:', best_score_GWO_train)"
      ],
      "metadata": {
        "colab": {
          "base_uri": "https://localhost:8080/"
        },
        "id": "51HzEwyR439n",
        "outputId": "3bceffdb-af81-4221-ab86-2467e29e7bf9"
      },
      "execution_count": null,
      "outputs": [
        {
          "output_type": "stream",
          "name": "stdout",
          "text": [
            "Default model accuracy: 0.9194804335324581\n",
            "Best model accuracy: 0.999513565698401\n"
          ]
        }
      ]
    },
    {
      "cell_type": "code",
      "source": [
        "val_scores_best_GWO = cross_val_score(best_model_GWO, X_val, y_val)\n",
        "\n",
        "print(val_scores.mean())\n",
        "print(val_scores_best_GWO.mean())"
      ],
      "metadata": {
        "colab": {
          "base_uri": "https://localhost:8080/"
        },
        "id": "za_su9su49IG",
        "outputId": "fd0e9668-baff-4f4f-a740-9b499790ad89"
      },
      "execution_count": null,
      "outputs": [
        {
          "output_type": "stream",
          "name": "stderr",
          "text": [
            "/usr/local/lib/python3.7/dist-packages/sklearn/utils/validation.py:993: DataConversionWarning: A column-vector y was passed when a 1d array was expected. Please change the shape of y to (n_samples, ), for example using ravel().\n",
            "  y = column_or_1d(y, warn=True)\n",
            "/usr/local/lib/python3.7/dist-packages/sklearn/utils/validation.py:993: DataConversionWarning: A column-vector y was passed when a 1d array was expected. Please change the shape of y to (n_samples, ), for example using ravel().\n",
            "  y = column_or_1d(y, warn=True)\n",
            "/usr/local/lib/python3.7/dist-packages/sklearn/utils/validation.py:993: DataConversionWarning: A column-vector y was passed when a 1d array was expected. Please change the shape of y to (n_samples, ), for example using ravel().\n",
            "  y = column_or_1d(y, warn=True)\n",
            "/usr/local/lib/python3.7/dist-packages/sklearn/utils/validation.py:993: DataConversionWarning: A column-vector y was passed when a 1d array was expected. Please change the shape of y to (n_samples, ), for example using ravel().\n",
            "  y = column_or_1d(y, warn=True)\n"
          ]
        },
        {
          "output_type": "stream",
          "name": "stdout",
          "text": [
            "0.6679663675036644\n",
            "0.6741983615249744\n"
          ]
        },
        {
          "output_type": "stream",
          "name": "stderr",
          "text": [
            "/usr/local/lib/python3.7/dist-packages/sklearn/utils/validation.py:993: DataConversionWarning: A column-vector y was passed when a 1d array was expected. Please change the shape of y to (n_samples, ), for example using ravel().\n",
            "  y = column_or_1d(y, warn=True)\n"
          ]
        }
      ]
    },
    {
      "cell_type": "code",
      "source": [
        "best_score_GWO_test = best_model_GWO.score(X_test, y_test)\n",
        "\n",
        "print('Default model accuracy:', default_score_test)\n",
        "print('Best model accuracy:', best_score_GWO_test)"
      ],
      "metadata": {
        "colab": {
          "base_uri": "https://localhost:8080/"
        },
        "id": "BdFeJcpi42gI",
        "outputId": "c331acd5-598f-4d45-b5f1-737bf040fd19"
      },
      "execution_count": null,
      "outputs": [
        {
          "output_type": "stream",
          "name": "stdout",
          "text": [
            "Default model accuracy: 0.8351765554164635\n",
            "Best model accuracy: 0.8598792102808795\n"
          ]
        }
      ]
    },
    {
      "cell_type": "markdown",
      "source": [
        "# AdaBoostReg PSO"
      ],
      "metadata": {
        "id": "_eyYXiRIZct3"
      }
    },
    {
      "cell_type": "code",
      "execution_count": null,
      "metadata": {
        "id": "AeoZHMFNZct3"
      },
      "outputs": [],
      "source": [
        "from sklearn.ensemble import AdaBoostRegressor\n",
        "from niapy.problems import Problem\n",
        "from niapy.task import OptimizationType, Task\n",
        "from niapy.algorithms.basic import ParticleSwarmOptimization\n",
        "\n",
        "\n",
        "def get_hyperparameters_PSO(x):\n",
        "    \"\"\"     \n",
        "    Fungsi untuk mendapatkan hyperparameters dari nilai x.     \n",
        "    Hyperparamter yang akan digunakan adalah base_estimator,     \n",
        "    n_estimators, learning_rate, dan loss     \n",
        "    \"\"\"\n",
        "    # print(x)\n",
        "    \n",
        "    bases = (DTReg, SVReg, LinReg, SGDReg, MLPReg, KNNReg)\n",
        "    base_estimator = bases[int(x[0] * 5)]\n",
        "    n_estimators = int(x[1] * 100 + 1)\n",
        "    learning_rate = x[2] * 3 + 0.000001\n",
        "    losses = ('linear', 'square', 'exponential')\n",
        "    loss = losses[int(x[3] * 2)]\n",
        "\n",
        "\n",
        "    params = {\n",
        "        'base_estimator': base_estimator,\n",
        "        'n_estimators': n_estimators,\n",
        "        'learning_rate' : learning_rate,\n",
        "        'loss': loss,\n",
        "    }\n",
        "\n",
        "    return params\n",
        "\n",
        "\n",
        "def get_regressor_PSO(x):\n",
        "    \"\"\"     generate regressor berdasarkan hyperparameter yang dipilih.     \"\"\"\n",
        "    params = get_hyperparameters_PSO(x)\n",
        "    return AdaBoostRegressor(**params)"
      ]
    },
    {
      "cell_type": "code",
      "source": [
        "class ABRHyperparameterOptimization_PSO(Problem):\n",
        "    def __init__(self, X_train, y_train):\n",
        "        super().__init__(dimension=4, lower=0, upper=1)\n",
        "        self.X_train = X_train\n",
        "        self.y_train = y_train\n",
        "\n",
        "    def _evaluate(self, x):\n",
        "        model = get_regressor_PSO(x)\n",
        "        scores = cross_val_score(model, self.X_train, self.y_train, cv=5, n_jobs=-1)\n",
        "        return scores.mean()"
      ],
      "metadata": {
        "id": "iQkz451zZct3"
      },
      "execution_count": null,
      "outputs": []
    },
    {
      "cell_type": "code",
      "source": [
        "problem = ABRHyperparameterOptimization_PSO(X_train, y_train)\n",
        "\n",
        "# akan menjalankan maksimalisasi untuk 100 iterasi pada permasalahan dengan populasi 10\n",
        "task = Task(problem, max_iters=100, optimization_type=OptimizationType.MAXIMIZATION)\n",
        "\n",
        "algorithm = ParticleSwarmOptimization(population_size=10, seed=1234)\n",
        "best_params_PSO, best_accuracy = algorithm.run(task)\n",
        "\n",
        "print('Best parameters:', get_hyperparameters_PSO(best_params_PSO))"
      ],
      "metadata": {
        "colab": {
          "base_uri": "https://localhost:8080/"
        },
        "outputId": "86953233-04c1-42f0-e0d0-2466d4cd1e53",
        "id": "HCFlLS_gZct3"
      },
      "execution_count": null,
      "outputs": [
        {
          "output_type": "stream",
          "name": "stdout",
          "text": [
            "Best parameters: {'base_estimator': DecisionTreeRegressor(), 'n_estimators': 101, 'learning_rate': 1.0218442264687206, 'loss': 'linear'}\n"
          ]
        }
      ]
    },
    {
      "cell_type": "code",
      "source": [
        "best_model_PSO = get_regressor_PSO(best_params_PSO)\n",
        "best_model_PSO.fit(X_train, y_train)"
      ],
      "metadata": {
        "colab": {
          "base_uri": "https://localhost:8080/"
        },
        "outputId": "cedd5dd9-1fca-4ed0-91e5-4670c9500793",
        "id": "owKccxTDZct4"
      },
      "execution_count": null,
      "outputs": [
        {
          "output_type": "stream",
          "name": "stderr",
          "text": [
            "/usr/local/lib/python3.7/dist-packages/sklearn/utils/validation.py:993: DataConversionWarning: A column-vector y was passed when a 1d array was expected. Please change the shape of y to (n_samples, ), for example using ravel().\n",
            "  y = column_or_1d(y, warn=True)\n"
          ]
        },
        {
          "output_type": "execute_result",
          "data": {
            "text/plain": [
              "AdaBoostRegressor(base_estimator=DecisionTreeRegressor(),\n",
              "                  learning_rate=1.0218442264687206, n_estimators=101)"
            ]
          },
          "metadata": {},
          "execution_count": 32
        }
      ]
    },
    {
      "cell_type": "code",
      "source": [
        "best_score_PSO_train = best_model_PSO.score(X_train, y_train)\n",
        "\n",
        "print('Default model accuracy:', default_score_train)\n",
        "print('Best model accuracy:', best_score_PSO_train)"
      ],
      "metadata": {
        "colab": {
          "base_uri": "https://localhost:8080/"
        },
        "id": "1korBKx06zKn",
        "outputId": "4a42e5f0-4df6-4d1e-c9da-4d23e430ab83"
      },
      "execution_count": null,
      "outputs": [
        {
          "output_type": "stream",
          "name": "stdout",
          "text": [
            "Default model accuracy: 0.9194804335324581\n",
            "Best model accuracy: 0.9990539216415791\n"
          ]
        }
      ]
    },
    {
      "cell_type": "code",
      "source": [
        "val_scores = cross_val_score(default_model, X_val, y_val)\n",
        "val_scores_best_PSO = cross_val_score(best_model_PSO, X_val, y_val)\n",
        "\n",
        "print(val_scores.mean())\n",
        "print(val_scores_best_PSO.mean())"
      ],
      "metadata": {
        "colab": {
          "base_uri": "https://localhost:8080/"
        },
        "id": "p4xxoY4w63kI",
        "outputId": "8f2d4767-7e52-4b84-c27d-39dad8195bb4"
      },
      "execution_count": null,
      "outputs": [
        {
          "output_type": "stream",
          "name": "stderr",
          "text": [
            "/usr/local/lib/python3.7/dist-packages/sklearn/utils/validation.py:993: DataConversionWarning: A column-vector y was passed when a 1d array was expected. Please change the shape of y to (n_samples, ), for example using ravel().\n",
            "  y = column_or_1d(y, warn=True)\n",
            "/usr/local/lib/python3.7/dist-packages/sklearn/utils/validation.py:993: DataConversionWarning: A column-vector y was passed when a 1d array was expected. Please change the shape of y to (n_samples, ), for example using ravel().\n",
            "  y = column_or_1d(y, warn=True)\n",
            "/usr/local/lib/python3.7/dist-packages/sklearn/utils/validation.py:993: DataConversionWarning: A column-vector y was passed when a 1d array was expected. Please change the shape of y to (n_samples, ), for example using ravel().\n",
            "  y = column_or_1d(y, warn=True)\n",
            "/usr/local/lib/python3.7/dist-packages/sklearn/utils/validation.py:993: DataConversionWarning: A column-vector y was passed when a 1d array was expected. Please change the shape of y to (n_samples, ), for example using ravel().\n",
            "  y = column_or_1d(y, warn=True)\n",
            "/usr/local/lib/python3.7/dist-packages/sklearn/utils/validation.py:993: DataConversionWarning: A column-vector y was passed when a 1d array was expected. Please change the shape of y to (n_samples, ), for example using ravel().\n",
            "  y = column_or_1d(y, warn=True)\n",
            "/usr/local/lib/python3.7/dist-packages/sklearn/utils/validation.py:993: DataConversionWarning: A column-vector y was passed when a 1d array was expected. Please change the shape of y to (n_samples, ), for example using ravel().\n",
            "  y = column_or_1d(y, warn=True)\n",
            "/usr/local/lib/python3.7/dist-packages/sklearn/utils/validation.py:993: DataConversionWarning: A column-vector y was passed when a 1d array was expected. Please change the shape of y to (n_samples, ), for example using ravel().\n",
            "  y = column_or_1d(y, warn=True)\n",
            "/usr/local/lib/python3.7/dist-packages/sklearn/utils/validation.py:993: DataConversionWarning: A column-vector y was passed when a 1d array was expected. Please change the shape of y to (n_samples, ), for example using ravel().\n",
            "  y = column_or_1d(y, warn=True)\n",
            "/usr/local/lib/python3.7/dist-packages/sklearn/utils/validation.py:993: DataConversionWarning: A column-vector y was passed when a 1d array was expected. Please change the shape of y to (n_samples, ), for example using ravel().\n",
            "  y = column_or_1d(y, warn=True)\n"
          ]
        },
        {
          "output_type": "stream",
          "name": "stdout",
          "text": [
            "0.6482963041728673\n",
            "0.7077339410483467\n"
          ]
        },
        {
          "output_type": "stream",
          "name": "stderr",
          "text": [
            "/usr/local/lib/python3.7/dist-packages/sklearn/utils/validation.py:993: DataConversionWarning: A column-vector y was passed when a 1d array was expected. Please change the shape of y to (n_samples, ), for example using ravel().\n",
            "  y = column_or_1d(y, warn=True)\n"
          ]
        }
      ]
    },
    {
      "cell_type": "code",
      "source": [
        "best_score_PSO_test = best_model_PSO.score(X_test, y_test)\n",
        "\n",
        "print('Default model accuracy:', default_score_test)\n",
        "print('Best model accuracy:', best_score_PSO_test)"
      ],
      "metadata": {
        "colab": {
          "base_uri": "https://localhost:8080/"
        },
        "id": "4rHYANjG6xpe",
        "outputId": "8aed1cde-4399-48fc-f815-e9aea866b49c"
      },
      "execution_count": null,
      "outputs": [
        {
          "output_type": "stream",
          "name": "stdout",
          "text": [
            "Default model accuracy: 0.8351765554164635\n",
            "Best model accuracy: 0.8676794576388198\n"
          ]
        }
      ]
    },
    {
      "cell_type": "markdown",
      "source": [
        "# Result"
      ],
      "metadata": {
        "id": "Oh2GEsrwdtEG"
      }
    },
    {
      "cell_type": "code",
      "source": [
        "print('Best parameters Hybrid Bat Algorithm:', get_hyperparameters(best_params_HBA))\n",
        "print('Best parameters Grey Wolf Optimizer:', get_hyperparameters_GWO(best_params_GWO))\n",
        "print('Best parameters Particle Swarm Optimization:', get_hyperparameters_PSO(best_params_PSO))"
      ],
      "metadata": {
        "colab": {
          "base_uri": "https://localhost:8080/"
        },
        "id": "GoxBX5nUZzDa",
        "outputId": "0d7ee83a-0dd9-4503-a059-5aaa0cff2132"
      },
      "execution_count": null,
      "outputs": [
        {
          "output_type": "stream",
          "name": "stdout",
          "text": [
            "[0.10749099 0.89977187 0.33116163 0.23945188]\n",
            "Best parameters: {'base_estimator': DecisionTreeRegressor(), 'n_estimators': 90, 'learning_rate': 0.9934859017224679, 'loss': 'linear'}\n",
            "Best parameters: {'base_estimator': DecisionTreeRegressor(), 'n_estimators': 101, 'learning_rate': 0.9322558355057619, 'loss': 'linear'}\n",
            "Best parameters: {'base_estimator': DecisionTreeRegressor(), 'n_estimators': 101, 'learning_rate': 1.0218442264687206, 'loss': 'linear'}\n"
          ]
        }
      ]
    },
    {
      "cell_type": "code",
      "source": [
        "# Output perbedaan performansi antar optimizer pada data train\n",
        "\n",
        "print(\"Accuracy Hybrid Bat Algorithm (Train data): \", best_score_HBA_train)\n",
        "print(\"Accuracy Grey Wolf Optimizer (Train data): \", best_score_GWO_train)\n",
        "print(\"Accuracy Particle Swarm Optimization (Train data): \", best_score_PSO_train)"
      ],
      "metadata": {
        "colab": {
          "base_uri": "https://localhost:8080/"
        },
        "id": "6tQozJ2id8XB",
        "outputId": "5e43fcfb-7e59-4c5d-b73a-d0b86db82cfc"
      },
      "execution_count": null,
      "outputs": [
        {
          "output_type": "stream",
          "name": "stdout",
          "text": [
            "0.9993976022102935\n",
            "0.999513565698401\n",
            "0.9990539216415791\n"
          ]
        }
      ]
    },
    {
      "cell_type": "code",
      "source": [
        "# Output perbedaan score cross validation antar optimizer pada data validation\n",
        "\n",
        "print(val_scores_best_HBA.mean())\n",
        "print(val_scores_best_GWO.mean())\n",
        "print(val_scores_best_PSO.mean())"
      ],
      "metadata": {
        "colab": {
          "base_uri": "https://localhost:8080/"
        },
        "id": "yT62pJYfdHfp",
        "outputId": "f9322cb5-cd15-4b87-8999-5399c05f4152"
      },
      "execution_count": null,
      "outputs": [
        {
          "output_type": "stream",
          "name": "stdout",
          "text": [
            "0.6903358618821407\n",
            "0.6741983615249744\n",
            "0.7077339410483467\n"
          ]
        }
      ]
    },
    {
      "cell_type": "code",
      "source": [
        "# Output perbedaan performansi antar optimizer pada data test\n",
        "\n",
        "print(\"Accuracy Hybrid Bat Algorithm (Test data): \", best_score_HBA_test)\n",
        "print(\"Accuracy Grey Wolf Optimizer (Test data): \", best_score_GWO_test)\n",
        "print(\"Accuracy Particle Swarm Optimization (Test data): \", best_score_PSO_test)"
      ],
      "metadata": {
        "id": "EAmcV-RP7AEa",
        "colab": {
          "base_uri": "https://localhost:8080/"
        },
        "outputId": "731213da-d5d6-469e-f9ee-218ced1e9891"
      },
      "execution_count": null,
      "outputs": [
        {
          "output_type": "stream",
          "name": "stdout",
          "text": [
            "0.8688102881606516\n",
            "0.8598792102808795\n",
            "0.8676794576388198\n"
          ]
        }
      ]
    }
  ]
}