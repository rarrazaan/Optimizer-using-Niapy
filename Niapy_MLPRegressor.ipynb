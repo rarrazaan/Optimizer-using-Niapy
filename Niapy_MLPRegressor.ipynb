{
  "cells": [
    {
      "cell_type": "markdown",
      "metadata": {
        "id": "xqfxE4eIZ2eG"
      },
      "source": [
        "# Preprocess"
      ]
    },
    {
      "cell_type": "code",
      "execution_count": null,
      "metadata": {
        "colab": {
          "base_uri": "https://localhost:8080/"
        },
        "id": "9JEul3EhcWi3",
        "outputId": "8600271c-50ed-40d7-e8f1-73a0863c0d48"
      },
      "outputs": [
        {
          "name": "stdout",
          "output_type": "stream",
          "text": [
            "Looking in indexes: https://pypi.org/simple, https://us-python.pkg.dev/colab-wheels/public/simple/\n",
            "Collecting niapy\n",
            "  Downloading niapy-2.0.2-py3-none-any.whl (176 kB)\n",
            "\u001b[K     |████████████████████████████████| 176 kB 4.8 MB/s \n",
            "\u001b[?25hRequirement already satisfied: pandas>=0.24.2 in /usr/local/lib/python3.7/dist-packages (from niapy) (1.3.5)\n",
            "Requirement already satisfied: matplotlib>=2.2.4 in /usr/local/lib/python3.7/dist-packages (from niapy) (3.2.2)\n",
            "Requirement already satisfied: openpyxl>=3.0.3 in /usr/local/lib/python3.7/dist-packages (from niapy) (3.0.10)\n",
            "Requirement already satisfied: numpy>=1.17.0 in /usr/local/lib/python3.7/dist-packages (from niapy) (1.21.6)\n",
            "Requirement already satisfied: kiwisolver>=1.0.1 in /usr/local/lib/python3.7/dist-packages (from matplotlib>=2.2.4->niapy) (1.4.3)\n",
            "Requirement already satisfied: pyparsing!=2.0.4,!=2.1.2,!=2.1.6,>=2.0.1 in /usr/local/lib/python3.7/dist-packages (from matplotlib>=2.2.4->niapy) (3.0.9)\n",
            "Requirement already satisfied: cycler>=0.10 in /usr/local/lib/python3.7/dist-packages (from matplotlib>=2.2.4->niapy) (0.11.0)\n",
            "Requirement already satisfied: python-dateutil>=2.1 in /usr/local/lib/python3.7/dist-packages (from matplotlib>=2.2.4->niapy) (2.8.2)\n",
            "Requirement already satisfied: typing-extensions in /usr/local/lib/python3.7/dist-packages (from kiwisolver>=1.0.1->matplotlib>=2.2.4->niapy) (4.1.1)\n",
            "Requirement already satisfied: et-xmlfile in /usr/local/lib/python3.7/dist-packages (from openpyxl>=3.0.3->niapy) (1.1.0)\n",
            "Requirement already satisfied: pytz>=2017.3 in /usr/local/lib/python3.7/dist-packages (from pandas>=0.24.2->niapy) (2022.1)\n",
            "Requirement already satisfied: six>=1.5 in /usr/local/lib/python3.7/dist-packages (from python-dateutil>=2.1->matplotlib>=2.2.4->niapy) (1.15.0)\n",
            "Installing collected packages: niapy\n",
            "Successfully installed niapy-2.0.2\n"
          ]
        }
      ],
      "source": [
        "!pip install niapy"
      ]
    },
    {
      "cell_type": "code",
      "execution_count": null,
      "metadata": {
        "id": "xMX7YyMD2Nbp"
      },
      "outputs": [],
      "source": [
        "import pandas as pd\n",
        "from sklearn.preprocessing import StandardScaler\n",
        "import gdown\n",
        "from sklearn.model_selection import train_test_split, cross_val_score"
      ]
    },
    {
      "cell_type": "code",
      "execution_count": null,
      "metadata": {
        "colab": {
          "base_uri": "https://localhost:8080/"
        },
        "id": "NKq7ybY0z_SP",
        "outputId": "f1958d0f-903c-477d-af03-3531f40fcfeb"
      },
      "outputs": [
        {
          "name": "stdout",
          "output_type": "stream",
          "text": [
            "/usr/local/lib/python3.7/dist-packages/gdown/cli.py:131: FutureWarning: Option `--id` was deprecated in version 4.3.1 and will be removed in 5.0. You don't need to pass it anymore to use a file ID.\n",
            "  category=FutureWarning,\n",
            "Downloading...\n",
            "From: https://drive.google.com/uc?id=1OLnlno2zp6HXmIxNdNcK6l3hidH4ttVr\n",
            "To: /content/boston_train.xlsx\n",
            "100% 34.4k/34.4k [00:00<00:00, 49.9MB/s]\n",
            "/usr/local/lib/python3.7/dist-packages/gdown/cli.py:131: FutureWarning: Option `--id` was deprecated in version 4.3.1 and will be removed in 5.0. You don't need to pass it anymore to use a file ID.\n",
            "  category=FutureWarning,\n",
            "Downloading...\n",
            "From: https://drive.google.com/uc?id=1cqgF0TDS6-wZql4NayQvPNvJx9SBf_CD\n",
            "To: /content/boston_test.xlsx\n",
            "100% 13.1k/13.1k [00:00<00:00, 21.7MB/s]\n"
          ]
        }
      ],
      "source": [
        "!gdown --id 1OLnlno2zp6HXmIxNdNcK6l3hidH4ttVr\n",
        "!gdown --id 1cqgF0TDS6-wZql4NayQvPNvJx9SBf_CD"
      ]
    },
    {
      "cell_type": "code",
      "execution_count": null,
      "metadata": {
        "id": "Zoz01srJ2CAT"
      },
      "outputs": [],
      "source": [
        "train = pd.read_excel('boston_train.xlsx')\n",
        "test = pd.read_excel('boston_test.xlsx')"
      ]
    },
    {
      "cell_type": "code",
      "execution_count": null,
      "metadata": {
        "colab": {
          "base_uri": "https://localhost:8080/"
        },
        "id": "DmxQRck82p4t",
        "outputId": "70b0d53f-e61f-490d-efbe-f6daf2e247a4"
      },
      "outputs": [
        {
          "data": {
            "text/plain": [
              "CRIM       0\n",
              "ZN         0\n",
              "INDUS      0\n",
              "CHAS       0\n",
              "NOX        0\n",
              "RM         0\n",
              "AGE        0\n",
              "DIS        0\n",
              "RAD        0\n",
              "TAX        0\n",
              "PTRATIO    0\n",
              "B          0\n",
              "LSTAT      0\n",
              "PRICE      0\n",
              "dtype: int64"
            ]
          },
          "execution_count": 5,
          "metadata": {},
          "output_type": "execute_result"
        }
      ],
      "source": [
        "train.isnull().sum()"
      ]
    },
    {
      "cell_type": "code",
      "execution_count": null,
      "metadata": {
        "id": "YouCPtGE3Fyr"
      },
      "outputs": [],
      "source": [
        "scaler = StandardScaler()"
      ]
    },
    {
      "cell_type": "code",
      "execution_count": null,
      "metadata": {
        "id": "9rP4pS2lmZXL"
      },
      "outputs": [],
      "source": [
        "X = train[['CRIM', 'ZN', 'INDUS', 'CHAS', 'NOX', 'RM', 'AGE', 'DIS', 'RAD', 'TAX', 'PTRATIO', 'B', 'LSTAT']]\n",
        "y = train[['PRICE']]"
      ]
    },
    {
      "cell_type": "code",
      "execution_count": null,
      "metadata": {
        "id": "pBwRHPdWmapM"
      },
      "outputs": [],
      "source": [
        "X_train, X_val, y_train, y_val = train_test_split(\n",
        "    X, y, test_size=0.2, random_state=1234)"
      ]
    },
    {
      "cell_type": "code",
      "execution_count": null,
      "metadata": {
        "id": "t8CMkJ813Gz9"
      },
      "outputs": [],
      "source": [
        "X_test = test[['CRIM', 'ZN', 'INDUS', 'CHAS', 'NOX', 'RM', 'AGE', 'DIS', 'RAD', 'TAX', 'PTRATIO', 'B', 'LSTAT']]\n",
        "y_test = test[['PRICE']]"
      ]
    },
    {
      "cell_type": "code",
      "execution_count": null,
      "metadata": {
        "id": "M0gb_hz45ZJb"
      },
      "outputs": [],
      "source": [
        "X_train = scaler.fit_transform(X_train)\n",
        "X_val = scaler.fit_transform(X_val)\n",
        "X_test = scaler.fit_transform(X_test)"
      ]
    },
    {
      "cell_type": "code",
      "execution_count": null,
      "metadata": {
        "colab": {
          "base_uri": "https://localhost:8080/"
        },
        "id": "cXq4ju2c8ySr",
        "outputId": "6d2de578-506a-46ef-a1d7-32350a02ad7c"
      },
      "outputs": [
        {
          "name": "stdout",
          "output_type": "stream",
          "text": [
            "323\n",
            "102\n"
          ]
        }
      ],
      "source": [
        "print(len(X_train))\n",
        "print(len(X_test))"
      ]
    },
    {
      "cell_type": "markdown",
      "metadata": {
        "id": "PSsauxa4rbH3"
      },
      "source": [
        "# MLP HybridBat"
      ]
    },
    {
      "cell_type": "code",
      "execution_count": null,
      "metadata": {
        "id": "MZ2EVEliwAYQ"
      },
      "outputs": [],
      "source": [
        "from sklearn.neural_network import MLPRegressor\n",
        "from niapy.problems import Problem\n",
        "from niapy.task import OptimizationType, Task\n",
        "from niapy.algorithms.modified import HybridBatAlgorithm\n",
        "\n",
        "import random\n",
        "\n",
        "def get_hyperparameters(x):\n",
        "    \"\"\"Get hyperparameters for solution `x`.\"\"\"\n",
        "    # print(x)\n",
        "    activations = ('identity', 'logistic', 'tanh', 'relu')\n",
        "    solvers = ('sgd', 'adam')\n",
        "    hidden_layer_sizes = (int(20 + x[0] * random.randint(100, 400)),)\n",
        "    activation = activations[int(x[1] * 3)]\n",
        "    solver = solvers[int(x[2])]\n",
        "    alpha = random.uniform(0.00001,0.5) + x[3]\n",
        "    max_iter = int(x[4] * 1000 + 1)\n",
        "    \n",
        "    params =  {\n",
        "        'hidden_layer_sizes': hidden_layer_sizes,\n",
        "        'activation': activation,\n",
        "        'solver': solver,\n",
        "        'alpha' : alpha,\n",
        "        'max_iter' : max_iter\n",
        "    }\n",
        "    # print(params)\n",
        "    return params\n",
        "\n",
        "\n",
        "def get_regressor_HBA(x):\n",
        "    \"\"\"Get classifier from solution `x`.\"\"\"\n",
        "    params = get_hyperparameters(x)\n",
        "    return MLPRegressor(**params)"
      ]
    },
    {
      "cell_type": "code",
      "execution_count": null,
      "metadata": {
        "id": "U3D3I1ZQaWl4"
      },
      "outputs": [],
      "source": [
        "class MLPHyperparameterOptimization(Problem):\n",
        "    def __init__(self, X_train, y_train):\n",
        "        super().__init__(dimension=5, lower=0, upper=1)\n",
        "        self.X_train = X_train\n",
        "        self.y_train = y_train\n",
        "\n",
        "    def _evaluate(self, x):\n",
        "        model = get_regressor_HBA(x)\n",
        "        scores = cross_val_score(model, self.X_train, self.y_train, cv=2, n_jobs=-1)\n",
        "        return scores.mean()"
      ]
    },
    {
      "cell_type": "code",
      "execution_count": null,
      "metadata": {
        "colab": {
          "base_uri": "https://localhost:8080/"
        },
        "id": "QDgUa7m3aaaD",
        "outputId": "efebeda3-6468-4eb4-b19e-f8ca4861535e"
      },
      "outputs": [
        {
          "name": "stdout",
          "output_type": "stream",
          "text": [
            "Best parameters: {'hidden_layer_sizes': (20,), 'activation': 'relu', 'solver': 'sgd', 'alpha': 0.6277505960652626, 'max_iter': 369}\n"
          ]
        }
      ],
      "source": [
        "problem = MLPHyperparameterOptimization(X_train, y_train)\n",
        "\n",
        "# We will be running maximization for 100 iters on `problem`\n",
        "task = Task(problem, max_iters=1000, optimization_type=OptimizationType.MAXIMIZATION)\n",
        "\n",
        "algorithm = HybridBatAlgorithm(population_size=10, seed=1234)\n",
        "best_params_HBA, best_accuracy = algorithm.run(task)\n",
        "\n",
        "print('Best parameters:', get_hyperparameters(best_params_HBA))"
      ]
    },
    {
      "cell_type": "code",
      "execution_count": null,
      "metadata": {
        "colab": {
          "base_uri": "https://localhost:8080/"
        },
        "id": "tR0gGDs8ab4M",
        "outputId": "89afedad-be4d-4cf9-caac-0537cca706cd"
      },
      "outputs": [
        {
          "name": "stderr",
          "output_type": "stream",
          "text": [
            "/usr/local/lib/python3.7/dist-packages/sklearn/neural_network/_multilayer_perceptron.py:1599: DataConversionWarning: A column-vector y was passed when a 1d array was expected. Please change the shape of y to (n_samples, ), for example using ravel().\n",
            "  y = column_or_1d(y, warn=True)\n",
            "/usr/local/lib/python3.7/dist-packages/sklearn/neural_network/_multilayer_perceptron.py:696: ConvergenceWarning: Stochastic Optimizer: Maximum iterations (200) reached and the optimization hasn't converged yet.\n",
            "  ConvergenceWarning,\n",
            "/usr/local/lib/python3.7/dist-packages/sklearn/neural_network/_multilayer_perceptron.py:1599: DataConversionWarning: A column-vector y was passed when a 1d array was expected. Please change the shape of y to (n_samples, ), for example using ravel().\n",
            "  y = column_or_1d(y, warn=True)\n",
            "/usr/local/lib/python3.7/dist-packages/sklearn/neural_network/_multilayer_perceptron.py:696: ConvergenceWarning: Stochastic Optimizer: Maximum iterations (369) reached and the optimization hasn't converged yet.\n",
            "  ConvergenceWarning,\n"
          ]
        },
        {
          "data": {
            "text/plain": [
              "MLPRegressor(alpha=0.93893610607013, hidden_layer_sizes=(20,), max_iter=369,\n",
              "             solver='sgd')"
            ]
          },
          "execution_count": 15,
          "metadata": {},
          "output_type": "execute_result"
        }
      ],
      "source": [
        "default_model = MLPRegressor()\n",
        "best_model_HBA = get_regressor_HBA(best_params_HBA)\n",
        "\n",
        "default_model.fit(X_train, y_train)\n",
        "best_model_HBA.fit(X_train, y_train)"
      ]
    },
    {
      "cell_type": "code",
      "execution_count": null,
      "metadata": {
        "colab": {
          "base_uri": "https://localhost:8080/"
        },
        "id": "cAibaaYjmOJi",
        "outputId": "0e1fe698-06a0-4f78-8910-2a4fa4e98236"
      },
      "outputs": [
        {
          "name": "stdout",
          "output_type": "stream",
          "text": [
            "Default model accuracy: 0.634616379966531\n",
            "Best model accuracy: 0.8977897085788257\n"
          ]
        }
      ],
      "source": [
        "default_score_train = default_model.score(X_train, y_train)\n",
        "best_score_HBA_train = best_model_HBA.score(X_train, y_train)\n",
        "\n",
        "print('Default model accuracy:', default_score_train)\n",
        "print('Best model accuracy:', best_score_HBA_train)"
      ]
    },
    {
      "cell_type": "code",
      "execution_count": null,
      "metadata": {
        "colab": {
          "base_uri": "https://localhost:8080/"
        },
        "id": "_kUm-gvEmPyB",
        "outputId": "28281111-a4e3-4a0e-8fc9-e842df5ba34b"
      },
      "outputs": [
        {
          "name": "stderr",
          "output_type": "stream",
          "text": [
            "/usr/local/lib/python3.7/dist-packages/sklearn/neural_network/_multilayer_perceptron.py:1599: DataConversionWarning: A column-vector y was passed when a 1d array was expected. Please change the shape of y to (n_samples, ), for example using ravel().\n",
            "  y = column_or_1d(y, warn=True)\n",
            "/usr/local/lib/python3.7/dist-packages/sklearn/neural_network/_multilayer_perceptron.py:696: ConvergenceWarning: Stochastic Optimizer: Maximum iterations (200) reached and the optimization hasn't converged yet.\n",
            "  ConvergenceWarning,\n",
            "/usr/local/lib/python3.7/dist-packages/sklearn/neural_network/_multilayer_perceptron.py:1599: DataConversionWarning: A column-vector y was passed when a 1d array was expected. Please change the shape of y to (n_samples, ), for example using ravel().\n",
            "  y = column_or_1d(y, warn=True)\n",
            "/usr/local/lib/python3.7/dist-packages/sklearn/neural_network/_multilayer_perceptron.py:696: ConvergenceWarning: Stochastic Optimizer: Maximum iterations (200) reached and the optimization hasn't converged yet.\n",
            "  ConvergenceWarning,\n",
            "/usr/local/lib/python3.7/dist-packages/sklearn/neural_network/_multilayer_perceptron.py:1599: DataConversionWarning: A column-vector y was passed when a 1d array was expected. Please change the shape of y to (n_samples, ), for example using ravel().\n",
            "  y = column_or_1d(y, warn=True)\n",
            "/usr/local/lib/python3.7/dist-packages/sklearn/neural_network/_multilayer_perceptron.py:696: ConvergenceWarning: Stochastic Optimizer: Maximum iterations (200) reached and the optimization hasn't converged yet.\n",
            "  ConvergenceWarning,\n",
            "/usr/local/lib/python3.7/dist-packages/sklearn/neural_network/_multilayer_perceptron.py:1599: DataConversionWarning: A column-vector y was passed when a 1d array was expected. Please change the shape of y to (n_samples, ), for example using ravel().\n",
            "  y = column_or_1d(y, warn=True)\n",
            "/usr/local/lib/python3.7/dist-packages/sklearn/neural_network/_multilayer_perceptron.py:696: ConvergenceWarning: Stochastic Optimizer: Maximum iterations (200) reached and the optimization hasn't converged yet.\n",
            "  ConvergenceWarning,\n",
            "/usr/local/lib/python3.7/dist-packages/sklearn/neural_network/_multilayer_perceptron.py:1599: DataConversionWarning: A column-vector y was passed when a 1d array was expected. Please change the shape of y to (n_samples, ), for example using ravel().\n",
            "  y = column_or_1d(y, warn=True)\n",
            "/usr/local/lib/python3.7/dist-packages/sklearn/neural_network/_multilayer_perceptron.py:696: ConvergenceWarning: Stochastic Optimizer: Maximum iterations (200) reached and the optimization hasn't converged yet.\n",
            "  ConvergenceWarning,\n",
            "/usr/local/lib/python3.7/dist-packages/sklearn/neural_network/_multilayer_perceptron.py:1599: DataConversionWarning: A column-vector y was passed when a 1d array was expected. Please change the shape of y to (n_samples, ), for example using ravel().\n",
            "  y = column_or_1d(y, warn=True)\n",
            "/usr/local/lib/python3.7/dist-packages/sklearn/neural_network/_multilayer_perceptron.py:696: ConvergenceWarning: Stochastic Optimizer: Maximum iterations (369) reached and the optimization hasn't converged yet.\n",
            "  ConvergenceWarning,\n",
            "/usr/local/lib/python3.7/dist-packages/sklearn/neural_network/_multilayer_perceptron.py:1599: DataConversionWarning: A column-vector y was passed when a 1d array was expected. Please change the shape of y to (n_samples, ), for example using ravel().\n",
            "  y = column_or_1d(y, warn=True)\n",
            "/usr/local/lib/python3.7/dist-packages/sklearn/neural_network/_multilayer_perceptron.py:696: ConvergenceWarning: Stochastic Optimizer: Maximum iterations (369) reached and the optimization hasn't converged yet.\n",
            "  ConvergenceWarning,\n",
            "/usr/local/lib/python3.7/dist-packages/sklearn/neural_network/_multilayer_perceptron.py:1599: DataConversionWarning: A column-vector y was passed when a 1d array was expected. Please change the shape of y to (n_samples, ), for example using ravel().\n",
            "  y = column_or_1d(y, warn=True)\n",
            "/usr/local/lib/python3.7/dist-packages/sklearn/neural_network/_multilayer_perceptron.py:696: ConvergenceWarning: Stochastic Optimizer: Maximum iterations (369) reached and the optimization hasn't converged yet.\n",
            "  ConvergenceWarning,\n",
            "/usr/local/lib/python3.7/dist-packages/sklearn/neural_network/_multilayer_perceptron.py:1599: DataConversionWarning: A column-vector y was passed when a 1d array was expected. Please change the shape of y to (n_samples, ), for example using ravel().\n",
            "  y = column_or_1d(y, warn=True)\n",
            "/usr/local/lib/python3.7/dist-packages/sklearn/neural_network/_multilayer_perceptron.py:696: ConvergenceWarning: Stochastic Optimizer: Maximum iterations (369) reached and the optimization hasn't converged yet.\n",
            "  ConvergenceWarning,\n",
            "/usr/local/lib/python3.7/dist-packages/sklearn/neural_network/_multilayer_perceptron.py:1599: DataConversionWarning: A column-vector y was passed when a 1d array was expected. Please change the shape of y to (n_samples, ), for example using ravel().\n",
            "  y = column_or_1d(y, warn=True)\n"
          ]
        },
        {
          "name": "stdout",
          "output_type": "stream",
          "text": [
            "0.6764441070128081\n",
            "0.740289698665656\n"
          ]
        },
        {
          "name": "stderr",
          "output_type": "stream",
          "text": [
            "/usr/local/lib/python3.7/dist-packages/sklearn/neural_network/_multilayer_perceptron.py:696: ConvergenceWarning: Stochastic Optimizer: Maximum iterations (369) reached and the optimization hasn't converged yet.\n",
            "  ConvergenceWarning,\n"
          ]
        }
      ],
      "source": [
        "val_scores = cross_val_score(default_model, X_val, y_val)\n",
        "val_scores_best_HBA = cross_val_score(best_model_HBA, X_val, y_val)\n",
        "\n",
        "print(-1 * val_scores.mean())\n",
        "print(val_scores_best_HBA.mean())"
      ]
    },
    {
      "cell_type": "code",
      "execution_count": null,
      "metadata": {
        "colab": {
          "base_uri": "https://localhost:8080/"
        },
        "id": "mtfCXH5PmJCM",
        "outputId": "48fc2fc5-5e82-4500-e4bf-f9816c10aea7"
      },
      "outputs": [
        {
          "name": "stdout",
          "output_type": "stream",
          "text": [
            "Default model accuracy: 0.6476909269464428\n",
            "Best model accuracy: 0.8705589778760081\n"
          ]
        }
      ],
      "source": [
        "default_score_test = default_model.score(X_test, y_test)\n",
        "best_score_HBA_test = best_model_HBA.score(X_test, y_test)\n",
        "\n",
        "print('Default model accuracy:', default_score_test)\n",
        "print('Best model accuracy:', best_score_HBA_test)"
      ]
    },
    {
      "cell_type": "markdown",
      "metadata": {
        "id": "JgtsoSLZZbKe"
      },
      "source": [
        "# MLP GWO"
      ]
    },
    {
      "cell_type": "code",
      "execution_count": null,
      "metadata": {
        "id": "7aeylJL0ZbKk"
      },
      "outputs": [],
      "source": [
        "from sklearn.neural_network import MLPRegressor\n",
        "from niapy.problems import Problem\n",
        "from niapy.task import OptimizationType, Task\n",
        "from niapy.algorithms.basic import GreyWolfOptimizer\n",
        "\n",
        "import random\n",
        "\n",
        "\n",
        "def get_hyperparameters_GWO(x):\n",
        "    \"\"\"Get hyperparameters for solution `x`.\"\"\"\n",
        "    activations = ('identity', 'logistic', 'tanh', 'relu')\n",
        "    solvers = ('sgd', 'adam')\n",
        "    hidden_layer_sizes = (int(20 + x[0] * random.randint(100, 400)),)\n",
        "    activation = activations[int(x[1] * 3)]\n",
        "    solver = solvers[int(x[2])]\n",
        "    alpha = random.uniform(0.00001,0.5) + x[3]\n",
        "    max_iter = int(x[4] * 1000 + 1)\n",
        "    \n",
        "    params =  {\n",
        "        'hidden_layer_sizes': hidden_layer_sizes,\n",
        "        'activation': activation,\n",
        "        'solver': solver,\n",
        "        'alpha' : alpha,\n",
        "        'max_iter' : max_iter\n",
        "    }\n",
        "    # print(params)\n",
        "    return params\n",
        "\n",
        "\n",
        "def get_regressor_GWO(x):\n",
        "    \"\"\"Get classifier from solution `x`.\"\"\"\n",
        "    params = get_hyperparameters_GWO(x)\n",
        "    return MLPRegressor(**params)"
      ]
    },
    {
      "cell_type": "code",
      "execution_count": null,
      "metadata": {
        "id": "jdY9QZRDZbKl"
      },
      "outputs": [],
      "source": [
        "class MLPHyperparameterOptimization_GWO(Problem):\n",
        "    def __init__(self, X_train, y_train):\n",
        "        super().__init__(dimension=5, lower=0, upper=1)\n",
        "        self.X_train = X_train\n",
        "        self.y_train = y_train\n",
        "\n",
        "    def _evaluate(self, x):\n",
        "        model = get_regressor_GWO(x)\n",
        "        scores = cross_val_score(model, self.X_train, self.y_train, cv=2, n_jobs=-1)\n",
        "        return scores.mean()"
      ]
    },
    {
      "cell_type": "code",
      "execution_count": null,
      "metadata": {
        "colab": {
          "background_save": true
        },
        "id": "JDyj8K82ZbKl",
        "outputId": "977d26e3-5172-41a6-b48e-7e530c5cc8eb"
      },
      "outputs": [
        {
          "name": "stdout",
          "output_type": "stream",
          "text": [
            "Best parameters: {'hidden_layer_sizes': (20,), 'activation': 'relu', 'solver': 'sgd', 'alpha': 0.5828015922636162, 'max_iter': 563}\n"
          ]
        }
      ],
      "source": [
        "problem = MLPHyperparameterOptimization_GWO(X_train, y_train)\n",
        "\n",
        "# We will be running maximization for 100 iters on `problem`\n",
        "task = Task(problem, max_iters=1000, optimization_type=OptimizationType.MAXIMIZATION)\n",
        "\n",
        "algorithm = GreyWolfOptimizer(population_size=10, seed=1234)\n",
        "best_params_GWO, best_accuracy = algorithm.run(task)\n",
        "\n",
        "print('Best parameters:', get_hyperparameters_GWO(best_params_GWO))"
      ]
    },
    {
      "cell_type": "code",
      "execution_count": null,
      "metadata": {
        "colab": {
          "background_save": true
        },
        "id": "AI8jc6RSZbKl",
        "outputId": "cf756442-994e-4e6b-d0c9-b8700adf208c"
      },
      "outputs": [
        {
          "name": "stderr",
          "output_type": "stream",
          "text": [
            "/usr/local/lib/python3.7/dist-packages/sklearn/neural_network/_multilayer_perceptron.py:1599: DataConversionWarning: A column-vector y was passed when a 1d array was expected. Please change the shape of y to (n_samples, ), for example using ravel().\n",
            "  y = column_or_1d(y, warn=True)\n",
            "/usr/local/lib/python3.7/dist-packages/sklearn/neural_network/_multilayer_perceptron.py:696: ConvergenceWarning: Stochastic Optimizer: Maximum iterations (563) reached and the optimization hasn't converged yet.\n",
            "  ConvergenceWarning,\n"
          ]
        },
        {
          "data": {
            "text/plain": [
              "MLPRegressor(alpha=0.5631959737089199, hidden_layer_sizes=(20,), max_iter=563,\n",
              "             solver='sgd')"
            ]
          },
          "execution_count": null,
          "metadata": {},
          "output_type": "execute_result"
        }
      ],
      "source": [
        "best_model_GWO = get_regressor_GWO(best_params_GWO)\n",
        "best_model_GWO.fit(X_train, y_train)"
      ]
    },
    {
      "cell_type": "code",
      "execution_count": null,
      "metadata": {
        "colab": {
          "background_save": true
        },
        "id": "DugcozTmm8pS",
        "outputId": "a359d262-f9ef-43c2-dbef-b0a04c4350cf"
      },
      "outputs": [
        {
          "ename": "NameError",
          "evalue": "ignored",
          "output_type": "error",
          "traceback": [
            "\u001b[0;31m---------------------------------------------------------------------------\u001b[0m",
            "\u001b[0;31mNameError\u001b[0m                                 Traceback (most recent call last)",
            "\u001b[0;32m<ipython-input-20-0c0cb8f07fd7>\u001b[0m in \u001b[0;36m<module>\u001b[0;34m()\u001b[0m\n\u001b[1;32m      1\u001b[0m \u001b[0mbest_score_GWO_train\u001b[0m \u001b[0;34m=\u001b[0m \u001b[0mbest_model\u001b[0m\u001b[0;34m.\u001b[0m\u001b[0mscore\u001b[0m\u001b[0;34m(\u001b[0m\u001b[0mX_train\u001b[0m\u001b[0;34m,\u001b[0m \u001b[0my_train\u001b[0m\u001b[0;34m)\u001b[0m\u001b[0;34m\u001b[0m\u001b[0;34m\u001b[0m\u001b[0m\n\u001b[1;32m      2\u001b[0m \u001b[0;34m\u001b[0m\u001b[0m\n\u001b[0;32m----> 3\u001b[0;31m \u001b[0mprint\u001b[0m\u001b[0;34m(\u001b[0m\u001b[0;34m'Default model accuracy:'\u001b[0m\u001b[0;34m,\u001b[0m \u001b[0mdefault_score_train\u001b[0m\u001b[0;34m)\u001b[0m\u001b[0;34m\u001b[0m\u001b[0;34m\u001b[0m\u001b[0m\n\u001b[0m\u001b[1;32m      4\u001b[0m \u001b[0mprint\u001b[0m\u001b[0;34m(\u001b[0m\u001b[0;34m'Best model accuracy:'\u001b[0m\u001b[0;34m,\u001b[0m \u001b[0mbest_score_GWO_train\u001b[0m\u001b[0;34m)\u001b[0m\u001b[0;34m\u001b[0m\u001b[0;34m\u001b[0m\u001b[0m\n",
            "\u001b[0;31mNameError\u001b[0m: name 'default_score_train' is not defined"
          ]
        }
      ],
      "source": [
        "best_score_GWO_train = best_model_GWO.score(X_train, y_train)\n",
        "\n",
        "print('Default model accuracy:', default_score_train)\n",
        "print('Best model accuracy:', best_score_GWO_train)"
      ]
    },
    {
      "cell_type": "code",
      "execution_count": null,
      "metadata": {
        "colab": {
          "background_save": true
        },
        "id": "Hyan06mNnD2g"
      },
      "outputs": [],
      "source": [
        "val_scores = cross_val_score(default_model, X_val, y_val)\n",
        "val_scores_best_GWO = cross_val_score(best_model_GWO, X_val, y_val)\n",
        "\n",
        "print(val_scores.mean())\n",
        "print(val_scores_best_GWO.mean())"
      ]
    },
    {
      "cell_type": "code",
      "execution_count": null,
      "metadata": {
        "colab": {
          "background_save": true
        },
        "id": "oRL9X9Z_my4J"
      },
      "outputs": [],
      "source": [
        "best_score_GWO_test = best_model_GWO.score(X_test, y_test)\n",
        "\n",
        "print('Default model accuracy:', default_score_test)\n",
        "print('Best model accuracy:', best_score_GWO_test)"
      ]
    },
    {
      "cell_type": "markdown",
      "metadata": {
        "id": "_eyYXiRIZct3"
      },
      "source": [
        "# MLP PSO"
      ]
    },
    {
      "cell_type": "code",
      "execution_count": null,
      "metadata": {
        "id": "AeoZHMFNZct3"
      },
      "outputs": [],
      "source": [
        "from sklearn.neural_network import MLPRegressor\n",
        "from niapy.problems import Problem\n",
        "from niapy.task import OptimizationType, Task\n",
        "from niapy.algorithms.basic import ParticleSwarmOptimization\n",
        "\n",
        "import random\n",
        "\n",
        "def get_hyperparameters_PSO(x):\n",
        "    \"\"\"Get hyperparameters for solution `x`.\"\"\"\n",
        "    # print(x)\n",
        "    activations = ('identity', 'logistic', 'tanh', 'relu')\n",
        "    solvers = ('sgd', 'adam')\n",
        "    hidden_layer_sizes = (int(20 + x[0] * random.randint(100, 400)),)\n",
        "    activation = activations[int(x[1] * 3)]\n",
        "    solver = solvers[int(x[2])]\n",
        "    alpha = random.uniform(0.00001,0.5) + x[3]\n",
        "    max_iter = int(x[4] * 1000 + 1)\n",
        "    \n",
        "    params =  {\n",
        "        'hidden_layer_sizes': hidden_layer_sizes,\n",
        "        'activation': activation,\n",
        "        'solver': solver,\n",
        "        'alpha' : alpha,\n",
        "        'max_iter' : max_iter\n",
        "    }\n",
        "    # print(params)\n",
        "    return params\n",
        "\n",
        "\n",
        "def get_regressor_PSO(x):\n",
        "    \"\"\"Get classifier from solution `x`.\"\"\"\n",
        "    params = get_hyperparameters_PSO(x)\n",
        "    return MLPRegressor(**params)"
      ]
    },
    {
      "cell_type": "code",
      "execution_count": null,
      "metadata": {
        "id": "iQkz451zZct3"
      },
      "outputs": [],
      "source": [
        "class ABRHyperparameterOptimization_PSO(Problem):\n",
        "    def __init__(self, X_train, y_train):\n",
        "        super().__init__(dimension=5, lower=0, upper=1)\n",
        "        self.X_train = X_train\n",
        "        self.y_train = y_train\n",
        "\n",
        "    def _evaluate(self, x):\n",
        "        model = get_regressor_PSO(x)\n",
        "        scores = cross_val_score(model, self.X_train, self.y_train, cv=2, n_jobs=-1)\n",
        "        return scores.mean()"
      ]
    },
    {
      "cell_type": "code",
      "execution_count": null,
      "metadata": {
        "id": "HCFlLS_gZct3"
      },
      "outputs": [],
      "source": [
        "problem = ABRHyperparameterOptimization_PSO(X_train, y_train)\n",
        "\n",
        "# We will be running maximization for 100 iters on `problem`\n",
        "task = Task(problem, max_iters=1000, optimization_type=OptimizationType.MAXIMIZATION)\n",
        "\n",
        "algorithm = ParticleSwarmOptimization(population_size=10, seed=1234)\n",
        "best_params_PSO, best_accuracy = algorithm.run(task)\n",
        "\n",
        "print('Best parameters:', get_hyperparameters_PSO(best_params_PSO))"
      ]
    },
    {
      "cell_type": "code",
      "execution_count": null,
      "metadata": {
        "id": "owKccxTDZct4"
      },
      "outputs": [],
      "source": [
        "best_model = get_regressor_PSO(best_params_PSO)\n",
        "best_model.fit(X_train, y_train)"
      ]
    },
    {
      "cell_type": "code",
      "execution_count": null,
      "metadata": {
        "id": "310ilCRRnc9S"
      },
      "outputs": [],
      "source": [
        "best_score_PSO_train = best_model.score(X_train, y_train)\n",
        "\n",
        "print('Default model accuracy:', default_score_train)\n",
        "print('Best model accuracy:', best_score_PSO_train)"
      ]
    },
    {
      "cell_type": "code",
      "execution_count": null,
      "metadata": {
        "id": "qCnT9JezndqG"
      },
      "outputs": [],
      "source": [
        "val_scores = cross_val_score(default_model, X_val, y_val)\n",
        "val_scores_best_PSO = cross_val_score(best_model_PSO, X_val, y_val)\n",
        "\n",
        "print(val_scores.mean())\n",
        "print(val_scores_best_PSO.mean())"
      ]
    },
    {
      "cell_type": "code",
      "execution_count": null,
      "metadata": {
        "id": "K6B8YJaJnY9U"
      },
      "outputs": [],
      "source": [
        "best_score_PSO_test = best_model.score(X_test, y_test)\n",
        "\n",
        "print('Default model accuracy:', default_score_test)\n",
        "print('Best model accuracy:', best_score_PSO_test)"
      ]
    },
    {
      "cell_type": "markdown",
      "metadata": {
        "id": "Oh2GEsrwdtEG"
      },
      "source": [
        "# Result"
      ]
    },
    {
      "cell_type": "code",
      "execution_count": null,
      "metadata": {
        "id": "GoxBX5nUZzDa"
      },
      "outputs": [],
      "source": [
        "print('Best parameters:', get_hyperparameters(best_params_HB))\n",
        "print('Best parameters:', get_hyperparameters_GWO(best_params_GWO))\n",
        "print('Best parameters:', get_hyperparameters_PSO(best_params_PSO))"
      ]
    },
    {
      "cell_type": "code",
      "execution_count": null,
      "metadata": {
        "id": "6tQozJ2id8XB"
      },
      "outputs": [],
      "source": [
        "print(best_score_HBA_train)\n",
        "print(best_score_GWO_train)\n",
        "print(best_score_PSO_train)"
      ]
    },
    {
      "cell_type": "code",
      "execution_count": null,
      "metadata": {
        "id": "yT62pJYfdHfp"
      },
      "outputs": [],
      "source": [
        "print(val_scores_best_HBA.mean())\n",
        "print(val_scores_best_GWO.mean())\n",
        "print(val_scores_best_PSO.mean())"
      ]
    },
    {
      "cell_type": "code",
      "execution_count": null,
      "metadata": {
        "id": "EAmcV-RP7AEa"
      },
      "outputs": [],
      "source": [
        "print(best_score_HBA_test)\n",
        "print(best_score_GWO_test)\n",
        "print(best_score_PSO_test)"
      ]
    }
  ],
  "metadata": {
    "accelerator": "GPU",
    "colab": {
      "collapsed_sections": [],
      "name": "Niapy-MLP.ipynb",
      "provenance": []
    },
    "gpuClass": "standard",
    "kernelspec": {
      "display_name": "Python 3",
      "name": "python3"
    },
    "language_info": {
      "name": "python"
    }
  },
  "nbformat": 4,
  "nbformat_minor": 0
}